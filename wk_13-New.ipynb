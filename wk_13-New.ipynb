{
 "cells": [
  {
   "cell_type": "markdown",
   "metadata": {},
   "source": [
    "# 目錄\n",
    "\n",
    "先將數據導入，分成不同區間[1數據導入]，\n",
    "\n",
    "而後定義各像函數(指標，相關係數，交易)[2函數區塊]，\n",
    "\n",
    "之後選擇適合的天數，及輸出正負相關的不同結果(做多,做空,多空)[3流程]，\n",
    "\n",
    "在用正負相關的指標建構類神經模型[4BPN]。\n",
    "\n",
    "- [1數據導入](#1數據導入)\n",
    "- [1.1-前200筆生成指標(用以盡可能嘗試指標不同構面)](#1.1-前200筆生成指標(用以盡可能嘗試指標不同構面))    \n",
    "    - [1.2-500筆用於尋找規律](#1.2-500筆用於尋找規律)    \n",
    "    - [1.3-300筆用於驗證](#1.3-300筆用於驗證)\n",
    "\n",
    "\n",
    "- [2函數區塊](#2函數區塊)\n",
    "- [2.1各項指標函數](##2.1各項指標函數)\n",
    "- [2.2指標表生成(輪廓)](#2.2指標表生成(輪廓))    \n",
    "- [2.3參數設定[資料區間]](#2.3參數設定[資料區間])\n",
    "- [2.4相關分析](##2.4相關分析)\n",
    "- [2.5交易相關函數](#2.5交易相關函數)\n",
    "- [2.5.1例子:負相關[0]](#2.5.1例子負相關0)\n",
    "\n",
    "\n",
    "- [3流程](#3流程)\n",
    "- [3.1進場評分指標天數選擇](#3.1進場評分指標天數選擇)    \n",
    "- [3.2進場評分指標天數[40]](#3.2進場評分指標天數[40])    \n",
    "- [3.3相關分析輸出結果](#3.3相關分析輸出結果)    \n",
    "- [3.4正負相關各項輸出(做多,做空,多空)](#3.4正負相關各項輸出做多做空多空)\n",
    "\n",
    "\n",
    "- [4BPN](#4bpn)    \n",
    "- [4.1正負相關 6 個指標](#4.1正負相關-6-個指標)\n",
    "- [4.2資料正規化](#4.2資料正規化)\n",
    "- [4.3類神經參數選擇](#4.3類神經參數選擇)    \n",
    "- [4.4類神經](#4.4類神經)    \n",
    "- [4.5類神經交易](#4.5類神經交易)    \n",
    "- [4.6類神經所有結果(做多,做空,多空)](#4.6類神經所有結果做多做空多空)"
   ]
  },
  {
   "cell_type": "markdown",
   "metadata": {},
   "source": [
    "# 1數據導入"
   ]
  },
  {
   "cell_type": "code",
   "execution_count": 11,
   "metadata": {
    "ExecuteTime": {
     "end_time": "2019-02-28T14:22:07.263246Z",
     "start_time": "2019-02-28T14:22:05.372827Z"
    },
    "code_folding": []
   },
   "outputs": [
    {
     "data": {
      "text/html": [
       "<div>\n",
       "<style scoped>\n",
       "    .dataframe tbody tr th:only-of-type {\n",
       "        vertical-align: middle;\n",
       "    }\n",
       "\n",
       "    .dataframe tbody tr th {\n",
       "        vertical-align: top;\n",
       "    }\n",
       "\n",
       "    .dataframe thead th {\n",
       "        text-align: right;\n",
       "    }\n",
       "</style>\n",
       "<table border=\"1\" class=\"dataframe\">\n",
       "  <thead>\n",
       "    <tr style=\"text-align: right;\">\n",
       "      <th></th>\n",
       "      <th>開盤價</th>\n",
       "      <th>最高價</th>\n",
       "      <th>最低價</th>\n",
       "      <th>收盤價</th>\n",
       "      <th>成交量</th>\n",
       "      <th>期現貨價差(現貨-期貨)</th>\n",
       "      <th>近遠月價差(遠月-近月)</th>\n",
       "      <th>買權(Call)成交量</th>\n",
       "      <th>買權(Call)未平倉量</th>\n",
       "      <th>賣權(Put)成交量</th>\n",
       "      <th>...</th>\n",
       "      <th>自營商未平倉賣口</th>\n",
       "      <th>自營商未平倉淨口</th>\n",
       "      <th>外資及陸資未平倉買口</th>\n",
       "      <th>外資及陸資未平倉賣口</th>\n",
       "      <th>外資及陸資未平倉淨口</th>\n",
       "      <th>三大法人未平倉買口</th>\n",
       "      <th>三大法人未平倉賣口</th>\n",
       "      <th>三大法人未平倉淨口</th>\n",
       "      <th>未平倉</th>\n",
       "      <th>未平倉變化</th>\n",
       "    </tr>\n",
       "    <tr>\n",
       "      <th>時間</th>\n",
       "      <th></th>\n",
       "      <th></th>\n",
       "      <th></th>\n",
       "      <th></th>\n",
       "      <th></th>\n",
       "      <th></th>\n",
       "      <th></th>\n",
       "      <th></th>\n",
       "      <th></th>\n",
       "      <th></th>\n",
       "      <th></th>\n",
       "      <th></th>\n",
       "      <th></th>\n",
       "      <th></th>\n",
       "      <th></th>\n",
       "      <th></th>\n",
       "      <th></th>\n",
       "      <th></th>\n",
       "      <th></th>\n",
       "      <th></th>\n",
       "      <th></th>\n",
       "    </tr>\n",
       "  </thead>\n",
       "  <tbody>\n",
       "    <tr>\n",
       "      <th>2012-01-02</th>\n",
       "      <td>7022</td>\n",
       "      <td>7051</td>\n",
       "      <td>6928</td>\n",
       "      <td>6945</td>\n",
       "      <td>88074</td>\n",
       "      <td>7.21</td>\n",
       "      <td>-6</td>\n",
       "      <td>173222</td>\n",
       "      <td>380730</td>\n",
       "      <td>131778</td>\n",
       "      <td>...</td>\n",
       "      <td>5430</td>\n",
       "      <td>1661</td>\n",
       "      <td>24067</td>\n",
       "      <td>36378</td>\n",
       "      <td>-12311</td>\n",
       "      <td>32333</td>\n",
       "      <td>43425</td>\n",
       "      <td>-11092</td>\n",
       "      <td>62592</td>\n",
       "      <td>1669</td>\n",
       "    </tr>\n",
       "    <tr>\n",
       "      <th>2012-01-03</th>\n",
       "      <td>7020</td>\n",
       "      <td>7087</td>\n",
       "      <td>7002</td>\n",
       "      <td>7047</td>\n",
       "      <td>86594</td>\n",
       "      <td>6.38</td>\n",
       "      <td>-6</td>\n",
       "      <td>141409</td>\n",
       "      <td>392236</td>\n",
       "      <td>119418</td>\n",
       "      <td>...</td>\n",
       "      <td>4991</td>\n",
       "      <td>1427</td>\n",
       "      <td>25990</td>\n",
       "      <td>34433</td>\n",
       "      <td>-8443</td>\n",
       "      <td>33590</td>\n",
       "      <td>41062</td>\n",
       "      <td>-7472</td>\n",
       "      <td>61296</td>\n",
       "      <td>-1296</td>\n",
       "    </tr>\n",
       "    <tr>\n",
       "      <th>2012-01-04</th>\n",
       "      <td>7084</td>\n",
       "      <td>7109</td>\n",
       "      <td>7043</td>\n",
       "      <td>7072</td>\n",
       "      <td>87250</td>\n",
       "      <td>10.97</td>\n",
       "      <td>-6</td>\n",
       "      <td>131942</td>\n",
       "      <td>406549</td>\n",
       "      <td>125820</td>\n",
       "      <td>...</td>\n",
       "      <td>5218</td>\n",
       "      <td>1861</td>\n",
       "      <td>27250</td>\n",
       "      <td>32591</td>\n",
       "      <td>-5341</td>\n",
       "      <td>35508</td>\n",
       "      <td>39396</td>\n",
       "      <td>-3888</td>\n",
       "      <td>60955</td>\n",
       "      <td>-341</td>\n",
       "    </tr>\n",
       "    <tr>\n",
       "      <th>2012-01-05</th>\n",
       "      <td>7088</td>\n",
       "      <td>7124</td>\n",
       "      <td>7061</td>\n",
       "      <td>7119</td>\n",
       "      <td>81890</td>\n",
       "      <td>11.86</td>\n",
       "      <td>-7</td>\n",
       "      <td>119946</td>\n",
       "      <td>420481</td>\n",
       "      <td>112973</td>\n",
       "      <td>...</td>\n",
       "      <td>5445</td>\n",
       "      <td>2130</td>\n",
       "      <td>28606</td>\n",
       "      <td>32092</td>\n",
       "      <td>-3486</td>\n",
       "      <td>37351</td>\n",
       "      <td>38961</td>\n",
       "      <td>-1610</td>\n",
       "      <td>60418</td>\n",
       "      <td>-537</td>\n",
       "    </tr>\n",
       "    <tr>\n",
       "      <th>2012-01-06</th>\n",
       "      <td>7100</td>\n",
       "      <td>7117</td>\n",
       "      <td>7060</td>\n",
       "      <td>7084</td>\n",
       "      <td>90243</td>\n",
       "      <td>36.51</td>\n",
       "      <td>-7</td>\n",
       "      <td>114604</td>\n",
       "      <td>435878</td>\n",
       "      <td>119626</td>\n",
       "      <td>...</td>\n",
       "      <td>4970</td>\n",
       "      <td>1850</td>\n",
       "      <td>27159</td>\n",
       "      <td>29963</td>\n",
       "      <td>-2804</td>\n",
       "      <td>35135</td>\n",
       "      <td>36403</td>\n",
       "      <td>-1268</td>\n",
       "      <td>56302</td>\n",
       "      <td>-4116</td>\n",
       "    </tr>\n",
       "  </tbody>\n",
       "</table>\n",
       "<p>5 rows × 37 columns</p>\n",
       "</div>"
      ],
      "text/plain": [
       "             開盤價   最高價   最低價   收盤價    成交量  期現貨價差(現貨-期貨)  近遠月價差(遠月-近月)  \\\n",
       "時間                                                                      \n",
       "2012-01-02  7022  7051  6928  6945  88074          7.21            -6   \n",
       "2012-01-03  7020  7087  7002  7047  86594          6.38            -6   \n",
       "2012-01-04  7084  7109  7043  7072  87250         10.97            -6   \n",
       "2012-01-05  7088  7124  7061  7119  81890         11.86            -7   \n",
       "2012-01-06  7100  7117  7060  7084  90243         36.51            -7   \n",
       "\n",
       "            買權(Call)成交量  買權(Call)未平倉量  賣權(Put)成交量  ...    自營商未平倉賣口  自營商未平倉淨口  \\\n",
       "時間                                                 ...                         \n",
       "2012-01-02       173222        380730      131778  ...        5430      1661   \n",
       "2012-01-03       141409        392236      119418  ...        4991      1427   \n",
       "2012-01-04       131942        406549      125820  ...        5218      1861   \n",
       "2012-01-05       119946        420481      112973  ...        5445      2130   \n",
       "2012-01-06       114604        435878      119626  ...        4970      1850   \n",
       "\n",
       "            外資及陸資未平倉買口  外資及陸資未平倉賣口  外資及陸資未平倉淨口  三大法人未平倉買口  三大法人未平倉賣口  \\\n",
       "時間                                                                     \n",
       "2012-01-02       24067       36378      -12311      32333      43425   \n",
       "2012-01-03       25990       34433       -8443      33590      41062   \n",
       "2012-01-04       27250       32591       -5341      35508      39396   \n",
       "2012-01-05       28606       32092       -3486      37351      38961   \n",
       "2012-01-06       27159       29963       -2804      35135      36403   \n",
       "\n",
       "            三大法人未平倉淨口    未平倉  未平倉變化  \n",
       "時間                                   \n",
       "2012-01-02     -11092  62592   1669  \n",
       "2012-01-03      -7472  61296  -1296  \n",
       "2012-01-04      -3888  60955   -341  \n",
       "2012-01-05      -1610  60418   -537  \n",
       "2012-01-06      -1268  56302  -4116  \n",
       "\n",
       "[5 rows x 37 columns]"
      ]
     },
     "execution_count": 11,
     "metadata": {},
     "output_type": "execute_result"
    }
   ],
   "source": [
    "# 在 notebook 中使用 matplot 包含 icon\n",
    "%matplotlib inline\n",
    "\n",
    "# ---\n",
    "# 每次執行時 reload 變更 model 時無需重跑\n",
    "%reload_ext autoreload\n",
    "%autoreload 2\n",
    "\n",
    "# 繪圖格式設定\n",
    "import matplotlib.pyplot as plt\n",
    "plt.style.use('seaborn')\n",
    "plt.rcParams['axes.unicode_minus']=False # 負號正常顯示\n",
    "plt.rcParams['font.family']='DFKai-sb' # 'DFKai-sb' :標楷體 \n",
    "\n",
    "## 資料分析常用套件\n",
    "# dataframe\n",
    "import pandas as pd\n",
    "# array\n",
    "import numpy as np\n",
    "# 統計相關\n",
    "import scipy.stats as stats \n",
    "\n",
    "# 系統相關\n",
    "import os\n",
    "# 讀檔\n",
    "df = pd.read_excel('Fitx1.xlsx',parse_dates=[0], index_col=0, encoding='big5')\n",
    "\n",
    "df.head()"
   ]
  },
  {
   "cell_type": "markdown",
   "metadata": {},
   "source": [
    "## 1.1-前200筆生成指標(用以盡可能嘗試指標不同構面)"
   ]
  },
  {
   "cell_type": "code",
   "execution_count": 12,
   "metadata": {
    "ExecuteTime": {
     "end_time": "2019-02-28T14:22:13.210636Z",
     "start_time": "2019-02-28T14:22:11.837086Z"
    },
    "scrolled": true
   },
   "outputs": [
    {
     "data": {
      "text/plain": [
       "<matplotlib.axes._subplots.AxesSubplot at 0x1f244a47438>"
      ]
     },
     "execution_count": 12,
     "metadata": {},
     "output_type": "execute_result"
    },
    {
     "data": {
      "image/png": "[encoded data removed]",
      "text/plain": [
       "<Figure size 576x396 with 1 Axes>"
      ]
     },
     "metadata": {},
     "output_type": "display_data"
    }
   ],
   "source": [
    "df.iloc[:200,3].plot(linestyle=':')"
   ]
  },
  {
   "cell_type": "markdown",
   "metadata": {},
   "source": [
    "## 1.2-500筆用於尋找規律"
   ]
  },
  {
   "cell_type": "code",
   "execution_count": 13,
   "metadata": {
    "ExecuteTime": {
     "end_time": "2019-02-28T14:22:16.675708Z",
     "start_time": "2019-02-28T14:22:15.919135Z"
    }
   },
   "outputs": [
    {
     "data": {
      "text/plain": [
       "<matplotlib.axes._subplots.AxesSubplot at 0x1f24645cb70>"
      ]
     },
     "execution_count": 13,
     "metadata": {},
     "output_type": "execute_result"
    },
    {
     "data": {
      "image/png": "[encoded data removed]",
      "text/plain": [
       "<Figure size 576x396 with 1 Axes>"
      ]
     },
     "metadata": {},
     "output_type": "display_data"
    }
   ],
   "source": [
    "df.iloc[200:700,3].plot(linestyle='-')"
   ]
  },
  {
   "cell_type": "markdown",
   "metadata": {},
   "source": [
    "## 1.3-300筆用於驗證"
   ]
  },
  {
   "cell_type": "code",
   "execution_count": 14,
   "metadata": {
    "ExecuteTime": {
     "end_time": "2019-02-28T14:22:19.902053Z",
     "start_time": "2019-02-28T14:22:19.149610Z"
    }
   },
   "outputs": [
    {
     "data": {
      "text/plain": [
       "<matplotlib.axes._subplots.AxesSubplot at 0x1f246397c88>"
      ]
     },
     "execution_count": 14,
     "metadata": {},
     "output_type": "execute_result"
    },
    {
     "data": {
      "image/png": "[encoded data removed]",
      "text/plain": [
       "<Figure size 576x396 with 1 Axes>"
      ]
     },
     "metadata": {},
     "output_type": "display_data"
    }
   ],
   "source": [
    "df.iloc[700:1000,3].plot(linestyle='-.')"
   ]
  },
  {
   "cell_type": "markdown",
   "metadata": {},
   "source": [
    "# 2函數區塊"
   ]
  },
  {
   "cell_type": "markdown",
   "metadata": {},
   "source": [
    "## 2.1各項指標函數"
   ]
  },
  {
   "cell_type": "code",
   "execution_count": 15,
   "metadata": {
    "ExecuteTime": {
     "end_time": "2019-02-28T14:22:23.676425Z",
     "start_time": "2019-02-28T14:22:23.027371Z"
    },
    "code_folding": []
   },
   "outputs": [
    {
     "data": {
      "text/plain": [
       "<__main__.signal_class at 0x1f246491e48>"
      ]
     },
     "execution_count": 15,
     "metadata": {},
     "output_type": "execute_result"
    }
   ],
   "source": [
    "class signal_class:\n",
    "    '''各項技術指標'''\n",
    "\n",
    "    def __init__(self, df):\n",
    "        '''\n",
    "        資料區間\n",
    "        開高低收定義\n",
    "        '''\n",
    "        self.df_price = df\n",
    "        \n",
    "    def ma(self, d, Close):\n",
    "        '''移動平均線(MA)'''\n",
    "        return Close.rolling(d).mean()\n",
    "\n",
    "    def mtm(self, d, Close):\n",
    "        '''動量指標(MTM)'''\n",
    "        return (Close/Close.shift(d) - 1)*100\n",
    "\n",
    "    def cci(self, d, High, Low, Close):\n",
    "        '''趨勢指標(CCI)'''\n",
    "        TP = (High + Low + Close)/3\n",
    "        MA = TP.rolling(d).mean()\n",
    "        MD = (MA - TP).abs().rolling(d).mean()\n",
    "        CCI = (TP-MA)/(0.015*MD)\n",
    "        return CCI\n",
    "\n",
    "    def macd(self, fast, slow, d, High, Low, Close):\n",
    "        '''指數平滑異同移動平均線(MACD)'''\n",
    "        DI = (High + Low + 2*Close)/4\n",
    "        fast_EMA = DI.ewm(span=fast).mean()\n",
    "        slow_EMA = DI.ewm(span=slow).mean()\n",
    "        DIF = fast_EMA - slow_EMA\n",
    "        MACD = DIF.ewm(span=d).mean()\n",
    "        return(DIF, MACD)\n",
    "\n",
    "    def vol(self, d, Close, m = 2):\n",
    "        '''2倍年化波動率 '''\n",
    "        ret = Close.pct_change()\n",
    "        v = m*ret.rolling(d).std()*100 * 252**0.5\n",
    "        return v\n",
    "\n",
    "    def kd(self, d, High, Low, Close, out=1):\n",
    "        '''隨機指標(KD) K, D, RSV 值'''\n",
    "        # 計算 RSV\n",
    "        RSV = 100* (( Close - Low.rolling(d).min()) / \n",
    "                    (High.rolling(d).max() - Low.rolling(d).min()))\n",
    "        n = len(RSV)\n",
    "        arr = np.zeros((n, 2))\n",
    "        K, D = arr[:,0], arr[:,1]\n",
    "        K[d-1], D[d-1] = 50, 50\n",
    "        for i in range(d, n):\n",
    "            K[i] = K[i-1]*2/3 + RSV[i]*1/3\n",
    "            D[i] = D[i-1]*2/3 + K[i]*1/3\n",
    "\n",
    "        if out == 1:\n",
    "            return K\n",
    "        elif out == 2:\n",
    "            return D\n",
    "        elif out == 3:\n",
    "            return RSV\n",
    "        elif out == 0:\n",
    "            return(K, D, RSV)\n",
    "\n",
    "    def wr(self, d, High, Low, Close):\n",
    "        '''計算威廉指標(W%R)'''\n",
    "        WR=100* (( High.rolling(d).max() - Close ) / \n",
    "                 (High.rolling(d).max() - Low.rolling(d).min() ))\n",
    "        return WR\n",
    "\n",
    "    def rsi(self, d, High, Low, Close):\n",
    "        '''相對強弱指標(RSI)'''\n",
    "        df1 = Close - Close.shift(1)\n",
    "        df2 = 100*(df1.apply(lambda x: 0 if x < 0 else x).rolling(d).mean() / \n",
    "                   df1.apply(lambda x: -x if x < 0 else x).rolling(d).mean())\n",
    "        return(df2)\n",
    "\n",
    "    def bb(self, d, Close, m=2):\n",
    "        '''布林通道上下界, 帶寬,%B'''\n",
    "        ma = Close.rolling(d).mean()\n",
    "        std = Close.rolling(d).std() \n",
    "        up = ma + m*std \n",
    "        dn = ma - m*std\n",
    "        bb_p = 100*(Close - dn)/(2*m*std) \n",
    "        bb_w = 100*(2*m*std)/ma\n",
    "        return(bb_p,bb_w)\n",
    "\n",
    "    def main_af2(self, x = 40):\n",
    "        '''\n",
    "        進場評分指標\n",
    "        以未來x天(最大-今天)-0.5*(最大-最小)\n",
    "        '''\n",
    "        df = self.df_price.copy()\n",
    "        Open, High, Low, Close = df.iloc[:,0], df.iloc[:,1], df.iloc[:,2], df.iloc[:,3]\n",
    "        xx = pd.concat([Close.shift(-i) for i in range(0,x)],axis=1)\n",
    "        hh = pd.concat([High.shift(-i) for i in range(0,x)],axis=1)\n",
    "        ll = pd.concat([Low.shift(-i) for i in range(0,x)],axis=1)\n",
    "        return((hh.max(axis=1)-xx.iloc[:,0])-0.5*(hh.max(axis=1)-ll.min(axis=1)))\n",
    "    \n",
    "    def main_kd(self,d=9):\n",
    "        '''設定隨機指標(KD)'''\n",
    "        df = self.df_price.copy()\n",
    "        Open, High, Low, Close = df.iloc[:,0], df.iloc[:,1], df.iloc[:,2], df.iloc[:,3]\n",
    "        df['K'+str(d)], df['D'+str(d)], df['RSV'+str(d)] = self.kd(d, High, Low, Close, out=0)\n",
    "        return df.iloc[:,4:]\n",
    "    \n",
    "    def main_wr(self, d=9):\n",
    "        '''設定威廉指標(W%R)'''\n",
    "        df = self.df_price.copy()\n",
    "        Open, High, Low, Close = df.iloc[:,0], df.iloc[:,1], df.iloc[:,2], df.iloc[:,3]\n",
    "        df['WR'+str(d)] = self.wr(d, High, Low, Close)\n",
    "        return df.iloc[:,4:]\n",
    "    \n",
    "    def main_rsi(self, d=9):\n",
    "        '''設定相對強弱指標(RSI)'''\n",
    "        df = self.df_price.copy()\n",
    "        Open, High, Low, Close = df.iloc[:,0], df.iloc[:,1], df.iloc[:,2], df.iloc[:,3]\n",
    "        df['RSI'+str(d)] = self.rsi(d, High, Low, Close)\n",
    "        return df.iloc[:,4:]\n",
    "    \n",
    "    def main_mtm(self, d=9):\n",
    "        '''設定動量指標(MTM)'''\n",
    "        df = self.df_price.copy()\n",
    "        Open, High, Low, Close = df.iloc[:,0], df.iloc[:,1], df.iloc[:,2], df.iloc[:,3]\n",
    "        df['MTM'+str(d)] = self.mtm(d, Close)\n",
    "        return df.iloc[:,4:]\n",
    "    \n",
    "    def main_ma(self, d=9):\n",
    "        '''設定移動平均線(MA)'''\n",
    "        df = self.df_price.copy()\n",
    "        Open, High, Low, Close = df.iloc[:,0], df.iloc[:,1], df.iloc[:,2], df.iloc[:,3]\n",
    "        df['MA_'+str(d)] =  Close - self.ma(d, Close)\n",
    "        return df.iloc[:,4:]\n",
    "    \n",
    "    def main_macd(self, fast=12, slow=26, d=9):\n",
    "        '''設定指數平滑異同移動平均線(MACD)'''\n",
    "        df = self.df_price.copy()\n",
    "        Open, High, Low, Close = df.iloc[:,0], df.iloc[:,1], df.iloc[:,2], df.iloc[:,3]\n",
    "        df['DIF'+','+str(fast)+','+str(slow)+','+str(d)], df['MACD'+','+str(fast)+','+str(slow)+','+str(d)] = self.macd(fast, slow, d, High, Low, Close)\n",
    "        return df.iloc[:,4:]\n",
    "    \n",
    "    def main_cci(self, d=14):\n",
    "        '''設定趨勢指標(CCI)'''\n",
    "        df = self.df_price.copy()\n",
    "        Open, High, Low, Close = df.iloc[:,0], df.iloc[:,1], df.iloc[:,2], df.iloc[:,3]\n",
    "        df['CCI'+str(d)] = self.cci(d, High, Low, Close)\n",
    "        return df.iloc[:,4:]\n",
    "    \n",
    "    def main_bb(self, d=9, m=2):\n",
    "        '''設定布林通道指標'''\n",
    "        df = self.df_price.copy()\n",
    "        Open, High, Low, Close = df.iloc[:,0], df.iloc[:,1], df.iloc[:,2], df.iloc[:,3]\n",
    "        df['%B'+','+str(d)+','+str(m)],df['BB'+','+str(d)+','+str(m)] = self.bb(d, Close, m)\n",
    "        return df.iloc[:,4:]\n",
    "    \n",
    "    def main_v(self, d=9, m=2):\n",
    "        '''設定波動率(v)'''\n",
    "        df = self.df_price.copy()\n",
    "        Open, High, Low, Close = df.iloc[:,0], df.iloc[:,1], df.iloc[:,2], df.iloc[:,3]\n",
    "        df['v'+','+str(d)+','+str(m)] = self.vol(d, Close, m)\n",
    "        return df.iloc[:,4:]\n",
    "    \n",
    "# 各項技術指標函數\n",
    "signal = signal_class(df.iloc[:,:4])\n",
    "signal"
   ]
  },
  {
   "cell_type": "markdown",
   "metadata": {},
   "source": [
    "## 2.2指標表生成(輪廓)"
   ]
  },
  {
   "cell_type": "code",
   "execution_count": 17,
   "metadata": {
    "ExecuteTime": {
     "end_time": "2019-02-28T14:24:40.270250Z",
     "start_time": "2019-02-28T14:23:52.965249Z"
    },
    "code_folding": []
   },
   "outputs": [
    {
     "data": {
      "text/html": [
       "<div>\n",
       "<style scoped>\n",
       "    .dataframe tbody tr th:only-of-type {\n",
       "        vertical-align: middle;\n",
       "    }\n",
       "\n",
       "    .dataframe tbody tr th {\n",
       "        vertical-align: top;\n",
       "    }\n",
       "\n",
       "    .dataframe thead th {\n",
       "        text-align: right;\n",
       "    }\n",
       "</style>\n",
       "<table border=\"1\" class=\"dataframe\">\n",
       "  <thead>\n",
       "    <tr style=\"text-align: right;\">\n",
       "      <th></th>\n",
       "      <th>K5</th>\n",
       "      <th>D5</th>\n",
       "      <th>RSV5</th>\n",
       "      <th>K6</th>\n",
       "      <th>D6</th>\n",
       "      <th>RSV6</th>\n",
       "      <th>K7</th>\n",
       "      <th>D7</th>\n",
       "      <th>RSV7</th>\n",
       "      <th>K8</th>\n",
       "      <th>...</th>\n",
       "      <th>自營商未平倉賣口</th>\n",
       "      <th>自營商未平倉淨口</th>\n",
       "      <th>外資及陸資未平倉買口</th>\n",
       "      <th>外資及陸資未平倉賣口</th>\n",
       "      <th>外資及陸資未平倉淨口</th>\n",
       "      <th>三大法人未平倉買口</th>\n",
       "      <th>三大法人未平倉賣口</th>\n",
       "      <th>三大法人未平倉淨口</th>\n",
       "      <th>未平倉</th>\n",
       "      <th>未平倉變化</th>\n",
       "    </tr>\n",
       "    <tr>\n",
       "      <th>時間</th>\n",
       "      <th></th>\n",
       "      <th></th>\n",
       "      <th></th>\n",
       "      <th></th>\n",
       "      <th></th>\n",
       "      <th></th>\n",
       "      <th></th>\n",
       "      <th></th>\n",
       "      <th></th>\n",
       "      <th></th>\n",
       "      <th></th>\n",
       "      <th></th>\n",
       "      <th></th>\n",
       "      <th></th>\n",
       "      <th></th>\n",
       "      <th></th>\n",
       "      <th></th>\n",
       "      <th></th>\n",
       "      <th></th>\n",
       "      <th></th>\n",
       "      <th></th>\n",
       "    </tr>\n",
       "  </thead>\n",
       "  <tbody>\n",
       "    <tr>\n",
       "      <th>2017-12-20</th>\n",
       "      <td>45.657865</td>\n",
       "      <td>47.325079</td>\n",
       "      <td>47.204969</td>\n",
       "      <td>48.518669</td>\n",
       "      <td>48.028133</td>\n",
       "      <td>47.204969</td>\n",
       "      <td>52.287339</td>\n",
       "      <td>48.928118</td>\n",
       "      <td>56.632653</td>\n",
       "      <td>54.261268</td>\n",
       "      <td>...</td>\n",
       "      <td>8651</td>\n",
       "      <td>-4196</td>\n",
       "      <td>65699</td>\n",
       "      <td>20117</td>\n",
       "      <td>45582</td>\n",
       "      <td>71882</td>\n",
       "      <td>63947</td>\n",
       "      <td>7935</td>\n",
       "      <td>30811</td>\n",
       "      <td>-12436</td>\n",
       "    </tr>\n",
       "    <tr>\n",
       "      <th>2017-12-21</th>\n",
       "      <td>51.342532</td>\n",
       "      <td>48.664230</td>\n",
       "      <td>62.711864</td>\n",
       "      <td>47.666690</td>\n",
       "      <td>47.907652</td>\n",
       "      <td>45.962733</td>\n",
       "      <td>50.179137</td>\n",
       "      <td>49.345125</td>\n",
       "      <td>45.962733</td>\n",
       "      <td>54.711594</td>\n",
       "      <td>...</td>\n",
       "      <td>8474</td>\n",
       "      <td>-4320</td>\n",
       "      <td>65705</td>\n",
       "      <td>22131</td>\n",
       "      <td>43574</td>\n",
       "      <td>71583</td>\n",
       "      <td>66084</td>\n",
       "      <td>5499</td>\n",
       "      <td>87835</td>\n",
       "      <td>57024</td>\n",
       "    </tr>\n",
       "    <tr>\n",
       "      <th>2017-12-22</th>\n",
       "      <td>65.478355</td>\n",
       "      <td>54.268938</td>\n",
       "      <td>93.750000</td>\n",
       "      <td>63.416211</td>\n",
       "      <td>53.077172</td>\n",
       "      <td>94.915254</td>\n",
       "      <td>56.641164</td>\n",
       "      <td>51.777138</td>\n",
       "      <td>69.565217</td>\n",
       "      <td>59.662802</td>\n",
       "      <td>...</td>\n",
       "      <td>9138</td>\n",
       "      <td>-4608</td>\n",
       "      <td>66338</td>\n",
       "      <td>21169</td>\n",
       "      <td>45169</td>\n",
       "      <td>72647</td>\n",
       "      <td>65195</td>\n",
       "      <td>7452</td>\n",
       "      <td>87459</td>\n",
       "      <td>-376</td>\n",
       "    </tr>\n",
       "    <tr>\n",
       "      <th>2017-12-25</th>\n",
       "      <td>66.241768</td>\n",
       "      <td>58.259881</td>\n",
       "      <td>67.768595</td>\n",
       "      <td>64.867006</td>\n",
       "      <td>57.007116</td>\n",
       "      <td>67.768595</td>\n",
       "      <td>62.003200</td>\n",
       "      <td>55.185825</td>\n",
       "      <td>72.727273</td>\n",
       "      <td>61.307292</td>\n",
       "      <td>...</td>\n",
       "      <td>9640</td>\n",
       "      <td>-5217</td>\n",
       "      <td>66574</td>\n",
       "      <td>21024</td>\n",
       "      <td>45550</td>\n",
       "      <td>72705</td>\n",
       "      <td>65607</td>\n",
       "      <td>7098</td>\n",
       "      <td>88085</td>\n",
       "      <td>626</td>\n",
       "    </tr>\n",
       "    <tr>\n",
       "      <th>2017-12-26</th>\n",
       "      <td>46.481854</td>\n",
       "      <td>54.333872</td>\n",
       "      <td>6.962025</td>\n",
       "      <td>45.565346</td>\n",
       "      <td>53.193193</td>\n",
       "      <td>6.962025</td>\n",
       "      <td>43.656142</td>\n",
       "      <td>51.342597</td>\n",
       "      <td>6.962025</td>\n",
       "      <td>43.192203</td>\n",
       "      <td>...</td>\n",
       "      <td>10596</td>\n",
       "      <td>-6115</td>\n",
       "      <td>66042</td>\n",
       "      <td>22619</td>\n",
       "      <td>43423</td>\n",
       "      <td>72051</td>\n",
       "      <td>69507</td>\n",
       "      <td>2544</td>\n",
       "      <td>91544</td>\n",
       "      <td>3459</td>\n",
       "    </tr>\n",
       "  </tbody>\n",
       "</table>\n",
       "<p>5 rows × 15517 columns</p>\n",
       "</div>"
      ],
      "text/plain": [
       "                   K5         D5       RSV5         K6         D6       RSV6  \\\n",
       "時間                                                                             \n",
       "2017-12-20  45.657865  47.325079  47.204969  48.518669  48.028133  47.204969   \n",
       "2017-12-21  51.342532  48.664230  62.711864  47.666690  47.907652  45.962733   \n",
       "2017-12-22  65.478355  54.268938  93.750000  63.416211  53.077172  94.915254   \n",
       "2017-12-25  66.241768  58.259881  67.768595  64.867006  57.007116  67.768595   \n",
       "2017-12-26  46.481854  54.333872   6.962025  45.565346  53.193193   6.962025   \n",
       "\n",
       "                   K7         D7       RSV7         K8  ...    自營商未平倉賣口  \\\n",
       "時間                                                      ...               \n",
       "2017-12-20  52.287339  48.928118  56.632653  54.261268  ...        8651   \n",
       "2017-12-21  50.179137  49.345125  45.962733  54.711594  ...        8474   \n",
       "2017-12-22  56.641164  51.777138  69.565217  59.662802  ...        9138   \n",
       "2017-12-25  62.003200  55.185825  72.727273  61.307292  ...        9640   \n",
       "2017-12-26  43.656142  51.342597   6.962025  43.192203  ...       10596   \n",
       "\n",
       "            自營商未平倉淨口  外資及陸資未平倉買口  外資及陸資未平倉賣口  外資及陸資未平倉淨口  三大法人未平倉買口  \\\n",
       "時間                                                                    \n",
       "2017-12-20     -4196       65699       20117       45582      71882   \n",
       "2017-12-21     -4320       65705       22131       43574      71583   \n",
       "2017-12-22     -4608       66338       21169       45169      72647   \n",
       "2017-12-25     -5217       66574       21024       45550      72705   \n",
       "2017-12-26     -6115       66042       22619       43423      72051   \n",
       "\n",
       "            三大法人未平倉賣口  三大法人未平倉淨口    未平倉  未平倉變化  \n",
       "時間                                              \n",
       "2017-12-20      63947       7935  30811 -12436  \n",
       "2017-12-21      66084       5499  87835  57024  \n",
       "2017-12-22      65195       7452  87459   -376  \n",
       "2017-12-25      65607       7098  88085    626  \n",
       "2017-12-26      69507       2544  91544   3459  \n",
       "\n",
       "[5 rows x 15517 columns]"
      ]
     },
     "execution_count": 17,
     "metadata": {},
     "output_type": "execute_result"
    }
   ],
   "source": [
    "# 指標表\n",
    "def sign_list_f(signal):\n",
    "    '''指標表'''\n",
    "    df_list = [\n",
    "        # 計算隨機指標(KD)\n",
    "        pd.concat([signal.main_kd(i)\n",
    "                 for i in range(5,201)],axis=1),\n",
    "        # 計算威廉指標(W%R)\n",
    "        pd.concat([signal.main_wr(i)\n",
    "                 for i in range(5,201)],axis=1),\n",
    "        # 計算相對強弱指(RSI)\n",
    "        pd.concat([signal.main_rsi(i)\n",
    "                 for i in range(5,201)],axis=1),\n",
    "        # 計算動量指標(MTM)\n",
    "        pd.concat([signal.main_mtm(i)\n",
    "                 for i in range(5,201)],axis=1),\n",
    "        # 計算移動平均線(MA)\n",
    "        pd.concat([signal.main_ma(i)\n",
    "                 for i in range(5,201)],axis=1),\n",
    "        # 計算趨勢指標(CCI)\n",
    "        pd.concat([signal.main_cci(i)\n",
    "                 for i in range(5,101)],axis=1),\n",
    "        # 計算布林通道指標\n",
    "        pd.concat([signal.main_bb(i, j/10)\n",
    "                 for i in range(5,201)\n",
    "                 for j in range(1, 36, 10)],axis=1),\n",
    "        # 計算波動率(v)\n",
    "        pd.concat([signal.main_v(i, j/10)\n",
    "                 for i in range(5,201)\n",
    "                 for j in range(1, 36, 10)],axis=1),\n",
    "        # 計算指數平滑異同移動平均線(MACD)\n",
    "        pd.concat([signal.main_macd(base+i, base+j, base+k) \n",
    "                 for base in range(0,73,9) \n",
    "                 for i in range(12,21) \n",
    "                 for j in range(22,31) \n",
    "                 for k in range(8,16)],axis=1)]\n",
    "    name_list=[i.columns for i in df_list] # 記錄指標的不同參數\n",
    "    # 合併所有指標\n",
    "    sign_list = pd.concat(df_list+[df.iloc[:,4:]],axis=1) \n",
    "    return(sign_list, name_list) # 回傳(指標表,和不同的名稱)\n",
    "(sign_list, name_list) = sign_list_f(signal) # 呼叫函數\n",
    "\n",
    "sign_list.tail() # 指標表後5筆\n"
   ]
  },
  {
   "cell_type": "markdown",
   "metadata": {},
   "source": [
    "## 2.3參數設定[資料區間]"
   ]
  },
  {
   "cell_type": "code",
   "execution_count": 27,
   "metadata": {
    "ExecuteTime": {
     "end_time": "2019-02-28T15:50:17.164295Z",
     "start_time": "2019-02-28T15:50:16.583466Z"
    }
   },
   "outputs": [],
   "source": [
    "\n",
    "start = 200\n",
    "end = start+500\n",
    "\n",
    "test_start = start+500\n",
    "test_end = test_start+300"
   ]
  },
  {
   "cell_type": "markdown",
   "metadata": {},
   "source": [
    "## 2.4相關分析"
   ]
  },
  {
   "cell_type": "code",
   "execution_count": 21,
   "metadata": {
    "ExecuteTime": {
     "end_time": "2019-02-28T15:48:36.544670Z",
     "start_time": "2019-02-28T15:48:35.959114Z"
    },
    "code_folding": []
   },
   "outputs": [],
   "source": [
    "# 由進場評分指標尋找相關性高的指標\n",
    "def stat_per_af(sign_list, method, start, end):\n",
    "    '''由場評分指標尋找相關性高的指標'''\n",
    "    af = method.shift(-1).iloc[start:end] # 樣本內隔日(shift(-1))進場評分指標\n",
    "    sign_list = sign_list.iloc[start:end] # 樣本內指標表(候選指標)\n",
    "    pearson = pd.DataFrame(  # 對所有的候選指標做相關係數檢定\n",
    "        {i : stats.pearsonr(af, sign_list.loc[:,i])\n",
    "         for i in sign_list.columns}\n",
    "    )\n",
    "    pearson = pearson.T # 將相關係數表轉置\n",
    "    return(pearson) # 回傳\n",
    "\n",
    "\n",
    "# pearson = stat_per_af(sign_list, method, start, end)\n",
    "\n",
    "# 相關分析篩選\n",
    "def pearson_sort(num, per_lis, name_list):\n",
    "    '''相關分析篩選\n",
    "    num:篩選出前幾名\n",
    "    per_lis:相關係數表(已排序)\n",
    "    '''\n",
    "    per =per_lis.copy() # 複製(避免原表受影響)相關係數表(已排序)\n",
    "    cond_list = []\n",
    "    cond_list.append(per.index[0]) # 將第1名放進列表\n",
    "    for j in range(num-1): # 重複num-1次\n",
    "        for i in name_list: # 檢查重複的技術指標，並將同種技術指標扣除\n",
    "            if per.index[0] in i:\n",
    "                per.drop(i,axis=0,inplace=True) # 扣除同種技術指標，取代原表\n",
    "                break\n",
    "        else: # 若不在技術指標裡，則\n",
    "            per.drop(per.index[0],axis=0,inplace=True) # 扣除那一個指標\n",
    "        cond_list.append(per.index[0]) # 扣除後再選次一名\n",
    "    return cond_list # 回傳篩選後的指標名稱\n"
   ]
  },
  {
   "cell_type": "code",
   "execution_count": 41,
   "metadata": {
    "ExecuteTime": {
     "end_time": "2019-03-01T08:53:43.150854Z",
     "start_time": "2019-03-01T08:53:36.000478Z"
    }
   },
   "outputs": [
    {
     "data": {
      "text/plain": [
       "['WR169', 'v,200,1.1', '期現貨價差(現貨-期貨)']"
      ]
     },
     "execution_count": 41,
     "metadata": {},
     "output_type": "execute_result"
    },
    {
     "data": {
      "text/plain": [
       "['MTM135', 'RSI135', 'MA_200']"
      ]
     },
     "execution_count": 41,
     "metadata": {},
     "output_type": "execute_result"
    },
    {
     "data": {
      "text/html": [
       "<div>\n",
       "<style scoped>\n",
       "    .dataframe tbody tr th:only-of-type {\n",
       "        vertical-align: middle;\n",
       "    }\n",
       "\n",
       "    .dataframe tbody tr th {\n",
       "        vertical-align: top;\n",
       "    }\n",
       "\n",
       "    .dataframe thead th {\n",
       "        text-align: right;\n",
       "    }\n",
       "</style>\n",
       "<table border=\"1\" class=\"dataframe\">\n",
       "  <thead>\n",
       "    <tr style=\"text-align: right;\">\n",
       "      <th></th>\n",
       "      <th>0</th>\n",
       "      <th>1</th>\n",
       "    </tr>\n",
       "  </thead>\n",
       "  <tbody>\n",
       "    <tr>\n",
       "      <th>WR169</th>\n",
       "      <td>0.409581</td>\n",
       "      <td>1.199138e-21</td>\n",
       "    </tr>\n",
       "    <tr>\n",
       "      <th>v,200,1.1</th>\n",
       "      <td>0.299923</td>\n",
       "      <td>7.490706e-12</td>\n",
       "    </tr>\n",
       "    <tr>\n",
       "      <th>期現貨價差(現貨-期貨)</th>\n",
       "      <td>0.168211</td>\n",
       "      <td>1.575516e-04</td>\n",
       "    </tr>\n",
       "  </tbody>\n",
       "</table>\n",
       "</div>"
      ],
      "text/plain": [
       "                     0             1\n",
       "WR169         0.409581  1.199138e-21\n",
       "v,200,1.1     0.299923  7.490706e-12\n",
       "期現貨價差(現貨-期貨)  0.168211  1.575516e-04"
      ]
     },
     "execution_count": 41,
     "metadata": {},
     "output_type": "execute_result"
    },
    {
     "data": {
      "text/html": [
       "<div>\n",
       "<style scoped>\n",
       "    .dataframe tbody tr th:only-of-type {\n",
       "        vertical-align: middle;\n",
       "    }\n",
       "\n",
       "    .dataframe tbody tr th {\n",
       "        vertical-align: top;\n",
       "    }\n",
       "\n",
       "    .dataframe thead th {\n",
       "        text-align: right;\n",
       "    }\n",
       "</style>\n",
       "<table border=\"1\" class=\"dataframe\">\n",
       "  <thead>\n",
       "    <tr style=\"text-align: right;\">\n",
       "      <th></th>\n",
       "      <th>0</th>\n",
       "      <th>1</th>\n",
       "    </tr>\n",
       "  </thead>\n",
       "  <tbody>\n",
       "    <tr>\n",
       "      <th>MTM135</th>\n",
       "      <td>-0.593334</td>\n",
       "      <td>7.125199e-49</td>\n",
       "    </tr>\n",
       "    <tr>\n",
       "      <th>RSI135</th>\n",
       "      <td>-0.571623</td>\n",
       "      <td>1.022396e-44</td>\n",
       "    </tr>\n",
       "    <tr>\n",
       "      <th>MA_200</th>\n",
       "      <td>-0.520515</td>\n",
       "      <td>4.602559e-36</td>\n",
       "    </tr>\n",
       "  </tbody>\n",
       "</table>\n",
       "</div>"
      ],
      "text/plain": [
       "               0             1\n",
       "MTM135 -0.593334  7.125199e-49\n",
       "RSI135 -0.571623  1.022396e-44\n",
       "MA_200 -0.520515  4.602559e-36"
      ]
     },
     "execution_count": 41,
     "metadata": {},
     "output_type": "execute_result"
    }
   ],
   "source": [
    "\n",
    "pearson = stat_per_af(sign_list, method, start, end) # 相關係數表(樣本內)\n",
    "\n",
    "test_pearson = stat_per_af(sign_list, method, test_start, test_end) # 相關係數表(樣本外)\n",
    "\n",
    "max_sort_list = pearson_sort( # 相關分析篩選(前3名，由大到小)\n",
    "    3,pearson.sort_values(by = [0], ascending = False), name_list\n",
    ")\n",
    "\n",
    "min_sort_list = pearson_sort( # 相關分析篩選(前3名，由小到大)\n",
    "    3,pearson.sort_values(by = [0], ascending = True), name_list\n",
    ")\n",
    "\n",
    "# 篩選後的指標名稱(正相關)\n",
    "max_sort_list\n",
    "# 篩選後的指標名稱(負相關)\n",
    "min_sort_list\n",
    "\n",
    "# 透過名稱，取得相關係數(正相關)\n",
    "max_per_lis = pearson.loc[max_sort_list,:]\n",
    "max_per_lis\n",
    "\n",
    "# 透過名稱，取得相關係數(負相關)\n",
    "min_per_lis = pearson.loc[min_sort_list,:]\n",
    "min_per_lis"
   ]
  },
  {
   "cell_type": "markdown",
   "metadata": {},
   "source": [
    "## 2.5交易相關函數"
   ]
  },
  {
   "cell_type": "code",
   "execution_count": 23,
   "metadata": {
    "ExecuteTime": {
     "end_time": "2019-02-28T15:49:05.894338Z",
     "start_time": "2019-02-28T15:49:05.288984Z"
    },
    "code_folding": []
   },
   "outputs": [],
   "source": [
    "# 由相關係數高的指標產生進場點位\n",
    "def condit_per(sign_list, name, limt = 1, per = 1, dec = 1):\n",
    "    '''由相關性高的指標產生進場點位\n",
    "    limt:門檻值，幾倍標準差\n",
    "    per:正負相關\n",
    "    dec:多空，做多為1，做空為-1，多空雙向為0\n",
    "    回傳\n",
    "    '''\n",
    "    test = sign_list[name] # 選擇指標\n",
    "    rng_up = test.mean() + limt*test.std() # 樣本內指標平均值加上一倍標準差(越高)\n",
    "    rng_dn = test.mean() - limt*test.std() # 樣本內指標平均值減去一倍標準差(越低)\n",
    "    if per == 1: # 正相關時\n",
    "        cond_up = test > rng_up # 正向操作，越高時，進場評分指標越高\n",
    "        cond_dn = test < rng_dn # 正向操作，越低時，進場評分指標越低\n",
    "    if per == -1: # 負相關時\n",
    "        cond_up = test < rng_dn # 反向操作，越低時，進場評分指標越高\n",
    "        cond_dn = test > rng_up # 反向操作，越高時，進場評分指標越低\n",
    "    # 建立與資料等長的全0陣列\n",
    "    condit = np.zeros_like(test)\n",
    "    if dec == 1: # 做多時\n",
    "        condit[cond_up] = 1 # 將符合條件(進場評分指標越高)的標記為1\n",
    "        rng = rng_up # 紀錄條件\n",
    "    if dec == 0: # 多空雙向時\n",
    "        condit[cond_up] = 1 # 將符合條件(進場評分指標越高)的標記為1\n",
    "        condit[cond_dn] = -1 # 將符合條件(進場評分指標越低)的標記為-1\n",
    "        rng = [rng_up,rng_dn] # 紀錄條件\n",
    "    if dec == -1: # 做空時\n",
    "        condit[cond_dn] = -1 # 將符合條件(進場評分指標越低)的標記為-1\n",
    "        rng = rng_dn # 紀錄條件\n",
    "    return(condit, rng) # 回傳進場點位，紀錄條件\n",
    "\n",
    "# 樣本內條件引用至樣本外\n",
    "def condit_per_test(sign_list, name, rng, per = 1, dec = 1):\n",
    "    '''樣本內條件引用至樣本外\n",
    "    per:正負相關，與condit_per的per連動\n",
    "    dec:多空，做多為1，做空為-1，多空雙向為0，與condit_per的dec連動\n",
    "    '''\n",
    "    test = sign_list[name] # 選擇指標\n",
    "    condit = np.zeros_like(test) # 建立與資料等長的全0陣列\n",
    "    if per == 1: # 正相關時\n",
    "        if dec == 1: # 做多時\n",
    "            cond_up = test > rng # 將符合條件(紀錄條件)的標記為1\n",
    "            condit[cond_up] = 1\n",
    "        if dec == -1: # 做空時\n",
    "            cond_dn = test < rng # 將符合條件(紀錄條件)的標記為-1\n",
    "            condit[cond_dn] = -1\n",
    "        if dec == 0: # 多空雙向時\n",
    "            cond_up = test > rng[0] # 將符合條件(紀錄條件)的標記為1\n",
    "            cond_dn = test < rng[1] # 將符合條件(紀錄條件)的標記為-1\n",
    "            condit[cond_up] = 1\n",
    "            condit[cond_dn] = -1    \n",
    "    if per == -1: # 負相關，與正相關時，反向操作\n",
    "        if dec == 1:\n",
    "            cond_up = test < rng\n",
    "            condit[cond_up] = 1\n",
    "        if dec == -1:    \n",
    "            cond_dn = test > rng\n",
    "            condit[cond_dn] = -1\n",
    "        if dec == 0:\n",
    "            cond_up = test < rng[0]\n",
    "            cond_dn = test > rng[1]\n",
    "            condit[cond_up] = 1\n",
    "            condit[cond_dn] = -1    \n",
    "    return condit # 回傳進場點位\n",
    "\n",
    "\n",
    "# df輸出Excel\n",
    "def df_to_excel(df,file_name):\n",
    "    writer=pd.ExcelWriter(file_name + '.xlsx') # 建立輸出檔案，檔名為name.xlsx\n",
    "    df.to_excel(writer,'condition')\n",
    "    writer.save()\n",
    "\n",
    "#df_to_excel(max_per_lis,file_name='condition')\n",
    "\n",
    "# 輸出回測結果至Excel檔案\n",
    "def out_excel(name, df, result, K, L):\n",
    "    # 輸出回測結果至Excel檔案\n",
    "    writer=pd.ExcelWriter(name + '.xlsx') # 建立輸出檔案，檔名為name.xlsx\n",
    "    df.to_excel(writer,'result') \n",
    "    result.to_excel(writer,'result',startcol=10) # 將result資料輸出到”result”工作表\n",
    "    workbook=writer.book # 建立工作簿\n",
    "    chart = workbook.add_chart({'type': 'line'}) # 指定格式建立圖型物件\n",
    "    chart.add_series(                            # 設定輸出圖型參數\n",
    "        {'values': '='+'result'+'!$I$'+str(K+1)+':$I$'+str(L+1),\n",
    "         'name':'累計損益圖'}\n",
    "    ) \n",
    "    worksheet=writer.sheets['result'] # 設定寫出至result工作表\n",
    "    worksheet.insert_chart('K15',chart) # 將圖型插入到工作中\n",
    "    writer.save() # 儲存Excel檔案\n",
    "\n",
    "\n",
    "# 計算各項策略績效指標\n",
    "def result_F(df):\n",
    "    # 計算總損益\n",
    "    last=df['累計損益'].iloc[-1]               \n",
    "    # 計算交易次數\n",
    "    # 將部位紀錄中不等於0計數，賦值給count\n",
    "    mean_ret = df.loc[(df['報酬點數']!=0),'報酬點數'].mean()\n",
    "    std_ret = df.loc[(df['報酬點數']!=0),'報酬點數'].std()\n",
    "    \n",
    "    if std_ret != 0:\n",
    "        mean_std_ratio = mean_ret/std_ret\n",
    "    else:\n",
    "        mean_std_ratio = 0\n",
    "        \n",
    "    win = df.loc[(df['報酬點數']>0),'報酬點數'] # 獲利\n",
    "    loss = df.loc[(df['報酬點數']<0),'報酬點數'] # 虧損\n",
    "    count = win.count() + loss.count() # 交易次數\n",
    "    \n",
    "    if loss.sum() != 0:\n",
    "        win_loss_ratio = win.sum()/-loss.sum() # 獲利因子\n",
    "    else:\n",
    "        win_loss_ratio = 0\n",
    "    \n",
    "    # 計算最大回損\n",
    "    def maxdrawdown(s):\n",
    "        s = s.cummax() - s  # 將歷史最高價-現在的序列，賦值給s\n",
    "                            # cummax函數可以生成，當日以前的最高價的序列\n",
    "        return(s.max())     # 回傳s的最大值\n",
    "    # 使用maxdrawdown函數，參數為'cus'，回傳給mdd\n",
    "    mdd=maxdrawdown(df['累計損益']) \n",
    "    # 計算勝率\n",
    "    # 若交易次數等於0，則\n",
    "    if count == 0:\n",
    "        w=0 # 勝率等於0\n",
    "    else: # 否則\n",
    "        # 將結算紀錄中大於0計數/交易次數，賦值給w\n",
    "        w=df.loc[(df['報酬點數']>0),'報酬點數'].count()/count \n",
    "    # 將總損益，交易次數，勝率，最大回損，統整成表格\n",
    "    result = pd.DataFrame(\n",
    "        [\n",
    "            last, \n",
    "            mean_std_ratio, \n",
    "            win_loss_ratio,\n",
    "            count, \n",
    "            w, \n",
    "            mdd\n",
    "        ],\n",
    "        index=[\n",
    "            '淨損益',\n",
    "            '單位風險報酬',\n",
    "            '獲利因子',\n",
    "            '交易次數',\n",
    "            '勝率',\n",
    "            '最大回損'\n",
    "        ]\n",
    "    ).round(3)\n",
    "    # 回傳\n",
    "    return(result) \n",
    "    \n",
    "# 進場\n",
    "def inp(i,p,cost,price,sign):\n",
    "    sign[i]=p # 進場時紀錄多空\n",
    "    cost=-p*price[i] # (以下一筆，開盤價)\n",
    "    return(p,cost,sign)\n",
    "# 出場\n",
    "def oup(i,p,cost,price,ret):\n",
    "    ret[i]=cost+p*price[i]-5 # 結算紀錄\n",
    "    cost=0 # 進場成本歸0\n",
    "    p=0 # 部位歸0 \n",
    "    day=0\n",
    "    return(p,cost,day,ret)\n",
    "# 回測\n",
    "def backtest(condit, df, K=1, file_name=None, daylimt=39, plot=True):\n",
    "    '''回測\n",
    "    condit                    # 進場判斷\n",
    "    K=1                       # 保留K線\n",
    "    file_name='test'          # 輸出excel\n",
    "    daylimt=39                # 持有天數限制\n",
    "    '''\n",
    "    # 進行買賣計算\n",
    "    L = len(df)  # 將df的長度賦值給L\n",
    "    cost = 0     # 進場價位\n",
    "    p = 0        # 設定部位，多方買進為1，空方賣出為-1，未持有部位為0\n",
    "    day = 0      # \n",
    "    \n",
    "    Time = df.index \n",
    "    Open = np.array(df.iloc[:,0])\n",
    "    Close = np.array(df.iloc[:,3])\n",
    "    sign = np.zeros(L)     # 用以紀錄進場多空\n",
    "    mm = np.zeros(L)       # 紀錄當日結算          \n",
    "    mp = np.zeros(L)       # 紀錄當日結算比率\n",
    "    ret = np.zeros(L)      # 用以紀錄出場結算\n",
    "    \n",
    "    \n",
    "    # 由於序列從0開始，迴圈從第K-1筆記錄開始執行\n",
    "    for i in range(K-1,L):\n",
    "        # 若 i < 最後一筆，則執行\n",
    "        if i < L-1:\n",
    "            # 若部位不等於0，則        \n",
    "            if p!=0:\n",
    "                day += 1    \n",
    "                mm[i]=cost+p*Close[i] # 當日結算(收盤價)\n",
    "                mp[i]=mm[i]/(-p*cost) # 當日結算/進場成本 %數\n",
    "                # 若持有天數大於等於持有天數限制，則\n",
    "                if day >= daylimt:\n",
    "                    # 以下一筆開盤價出場\n",
    "                    (p,cost,day,ret) = oup(i+1,p,cost,Open,ret) \n",
    "            # 若部位等於1(表多方)，則    \n",
    "            if p==1:\n",
    "                if condit[i] == -1:\n",
    "                    # 以下一筆開盤價出場\n",
    "                    (p,cost,day,ret) = oup(i+1,p,cost,Open,ret) \n",
    "            # 若部位等於-1(表空方)，則       \n",
    "            elif p==-1:\n",
    "                if condit[i] == 1:\n",
    "                    # 以下一筆開盤價出場\n",
    "                    (p,cost,day,ret) = oup(i+1,p,cost,Open,ret) \n",
    "            # 若部位等於0，則\n",
    "            if p==0:\n",
    "                if  condit[i] == 1:\n",
    "                    # 以下一筆開盤價進場\n",
    "                    (p,cost,sign) = inp(i+1,1,cost,Open,sign) \n",
    "                elif  condit[i] == -1:\n",
    "                    # 以下一筆開盤價進場\n",
    "                    (p,cost,sign) = inp(i+1,-1,cost,Open,sign)\n",
    "        # 若 i等於最後一筆，則            \n",
    "        elif i==L-1:\n",
    "            # 若部位不等於0，則\n",
    "            if p!=0:\n",
    "                # 以當筆收盤價做多方出場\n",
    "                (p,cost,day,ret) = oup(i,p,cost,Close,ret)\n",
    "\n",
    "    df1 = pd.DataFrame(\n",
    "        [\n",
    "            Time,Open,Close,\n",
    "            sign,mm,mp,ret\n",
    "        ],\n",
    "        index=[\n",
    "           '時間','開盤價','收盤價',\n",
    "           '進場多空','對準市值','對準市值比率','報酬點數']\n",
    "    ).T\n",
    "    # 計算累計損益\n",
    "    df1['累計損益']=df1['報酬點數'].cumsum() \n",
    "    # 畫圖\n",
    "    if plot == True:\n",
    "        plt.figure()\n",
    "        df1['累計損益'].plot() \n",
    "    # 績效\n",
    "    result=result_F(df1)\n",
    "    # 輸出Excel\n",
    "    if file_name != None:\n",
    "        out_excel(file_name,df1,result, K, L)\n",
    "\n",
    "    return result\n",
    "\n",
    "# 繪圖:進場評分指標與收盤價\n",
    "def plot_af(plot_name,method,start,end):\n",
    "    '''\n",
    "    繪圖:進場評分指標與收盤價\n",
    "    期間:start to end\n",
    "    '''\n",
    "    plt.figure()\n",
    "    method.shift(-1).iloc[start:end].plot()\n",
    "    signal.df_price.iloc[start:end,3].plot(secondary_y=True, linestyle='--',color='b')\n",
    "    if type(plot_name) == str:\n",
    "        plt.savefig(plot_name)\n",
    "    \n",
    "# 繪圖:進場評分指標與指標    \n",
    "def plot_af_signal(plot_name, sign_list, name, method, start, end):\n",
    "    '''\n",
    "    繪圖:進場評分指標與指標\n",
    "    期間:start to end\n",
    "    '''\n",
    "    plt.figure()\n",
    "    method.shift(-1).iloc[start:end].plot()\n",
    "    sign_list.loc[:,name].iloc[start:end].plot(secondary_y=True, linestyle='--',color='b')\n",
    "    if type(plot_name) == str:\n",
    "        plt.savefig(plot_name)"
   ]
  },
  {
   "cell_type": "markdown",
   "metadata": {},
   "source": [
    "### 2.5.1例子:負相關[0] \n",
    "\n",
    "min_sort_list[0]:負相關[0]\n",
    "\n",
    "limt:幾倍標準差 ; per:正負相關 ; dec:做多做空\n",
    "\n",
    "<span class=\"girk\">以下為負相關最高，做多</span>"
   ]
  },
  {
   "cell_type": "code",
   "execution_count": 24,
   "metadata": {
    "ExecuteTime": {
     "end_time": "2019-02-28T15:49:10.562734Z",
     "start_time": "2019-02-28T15:49:09.593304Z"
    }
   },
   "outputs": [
    {
     "data": {
      "text/html": [
       "<div>\n",
       "<style scoped>\n",
       "    .dataframe tbody tr th:only-of-type {\n",
       "        vertical-align: middle;\n",
       "    }\n",
       "\n",
       "    .dataframe tbody tr th {\n",
       "        vertical-align: top;\n",
       "    }\n",
       "\n",
       "    .dataframe thead th {\n",
       "        text-align: right;\n",
       "    }\n",
       "</style>\n",
       "<table border=\"1\" class=\"dataframe\">\n",
       "  <thead>\n",
       "    <tr style=\"text-align: right;\">\n",
       "      <th></th>\n",
       "      <th>0</th>\n",
       "    </tr>\n",
       "  </thead>\n",
       "  <tbody>\n",
       "    <tr>\n",
       "      <th>淨損益</th>\n",
       "      <td>3030.000</td>\n",
       "    </tr>\n",
       "    <tr>\n",
       "      <th>單位風險報酬</th>\n",
       "      <td>2.509</td>\n",
       "    </tr>\n",
       "    <tr>\n",
       "      <th>獲利因子</th>\n",
       "      <td>0.000</td>\n",
       "    </tr>\n",
       "    <tr>\n",
       "      <th>交易次數</th>\n",
       "      <td>7.000</td>\n",
       "    </tr>\n",
       "    <tr>\n",
       "      <th>勝率</th>\n",
       "      <td>1.000</td>\n",
       "    </tr>\n",
       "    <tr>\n",
       "      <th>最大回損</th>\n",
       "      <td>0.000</td>\n",
       "    </tr>\n",
       "  </tbody>\n",
       "</table>\n",
       "</div>"
      ],
      "text/plain": [
       "               0\n",
       "淨損益     3030.000\n",
       "單位風險報酬     2.509\n",
       "獲利因子       0.000\n",
       "交易次數       7.000\n",
       "勝率         1.000\n",
       "最大回損       0.000"
      ]
     },
     "execution_count": 24,
     "metadata": {},
     "output_type": "execute_result"
    },
    {
     "data": {
      "image/png": "[encoded data removed]",
      "text/plain": [
       "<Figure size 576x396 with 1 Axes>"
      ]
     },
     "metadata": {},
     "output_type": "display_data"
    }
   ],
   "source": [
    "\n",
    "(condit, rng) = condit_per(sign_list.iloc[start:end], min_sort_list[0], limt = 1, per=-1, dec=1)\n",
    "backtest(condit, df=signal.df_price.iloc[start:end], K=1, file_name=None, daylimt=39, plot=True)\n"
   ]
  },
  {
   "cell_type": "markdown",
   "metadata": {},
   "source": [
    "# 3流程"
   ]
  },
  {
   "cell_type": "markdown",
   "metadata": {},
   "source": [
    "## 3.1進場評分指標天數選擇\n",
    "\n",
    "不同進場評分指標天數有不同的結果，測試 10，20，...，50 \n"
   ]
  },
  {
   "cell_type": "code",
   "execution_count": 50,
   "metadata": {
    "ExecuteTime": {
     "end_time": "2019-03-01T09:35:29.678064Z",
     "start_time": "2019-03-01T09:35:12.826291Z"
    }
   },
   "outputs": [
    {
     "name": "stdout",
     "output_type": "stream",
     "text": [
      "進場評分指標天數: 10 \n",
      " -------------------------------------------------- \n",
      " MTM136          -0.368714\n",
      "RSI136          -0.350330\n",
      "MACD,15,22,15   -0.295487\n",
      "Name: 0, dtype: float64 \n",
      "\n",
      "進場評分指標天數: 20 \n",
      " -------------------------------------------------- \n",
      " MTM136   -0.517900\n",
      "RSI136   -0.490279\n",
      "MA_200   -0.423262\n",
      "Name: 0, dtype: float64 \n",
      "\n",
      "進場評分指標天數: 30 \n",
      " -------------------------------------------------- \n",
      " MTM135   -0.582904\n",
      "RSI135   -0.554175\n",
      "MA_200   -0.498158\n",
      "Name: 0, dtype: float64 \n",
      "\n",
      "進場評分指標天數: 40 \n",
      " -------------------------------------------------- \n",
      " MTM135   -0.593334\n",
      "RSI135   -0.571623\n",
      "MA_200   -0.520515\n",
      "Name: 0, dtype: float64 \n",
      "\n",
      "進場評分指標天數: 50 \n",
      " -------------------------------------------------- \n",
      " MTM131   -0.591218\n",
      "RSI131   -0.577903\n",
      "MA_200   -0.525332\n",
      "Name: 0, dtype: float64 \n",
      "\n"
     ]
    }
   ],
   "source": [
    "\n",
    "# 不同進場評分指標天數有不同的結果，測試 10，20，...，50\n",
    "method_day = [i for i in range(10,51,10)]\n",
    "method = [signal.main_af2(i) for i in method_day]\n",
    "\n",
    "\n",
    "\n",
    "for i,value in enumerate(method):\n",
    "    # 相關係數表\n",
    "    per = stat_per_af(sign_list, value, start, end) \n",
    "    pss = pearson_sort( # 相關係數前3名(絕對值)，返回名稱\n",
    "        3,\n",
    "        per.abs().sort_values(by = [0], ascending = False),\n",
    "        name_list\n",
    "    )\n",
    "    \n",
    "    print(\n",
    "        f'進場評分指標天數: {method_day[i]}', # 不同天數\n",
    "        '\\n',\n",
    "        '-'*50,\n",
    "        '\\n',\n",
    "        per.loc[pss][0], # 透過名稱取得結果\n",
    "        '\\n'\n",
    "    )\n"
   ]
  },
  {
   "cell_type": "markdown",
   "metadata": {},
   "source": [
    "## 3.2進場評分指標天數[40]\n",
    "\n",
    "進場評分指標天數[40]能夠找到最相關的指標"
   ]
  },
  {
   "cell_type": "code",
   "execution_count": 51,
   "metadata": {
    "ExecuteTime": {
     "end_time": "2019-03-01T09:35:34.861328Z",
     "start_time": "2019-03-01T09:35:34.202142Z"
    }
   },
   "outputs": [],
   "source": [
    "method = signal.main_af2(40)"
   ]
  },
  {
   "cell_type": "markdown",
   "metadata": {},
   "source": [
    "## 3.3相關分析輸出結果"
   ]
  },
  {
   "cell_type": "code",
   "execution_count": 52,
   "metadata": {
    "ExecuteTime": {
     "end_time": "2019-03-01T09:45:37.505821Z",
     "start_time": "2019-03-01T09:45:28.652219Z"
    }
   },
   "outputs": [
    {
     "data": {
      "text/plain": [
       "['WR169', 'v,200,1.1', '期現貨價差(現貨-期貨)']"
      ]
     },
     "execution_count": 52,
     "metadata": {},
     "output_type": "execute_result"
    },
    {
     "data": {
      "text/plain": [
       "['MTM135', 'RSI135', 'MA_200']"
      ]
     },
     "execution_count": 52,
     "metadata": {},
     "output_type": "execute_result"
    },
    {
     "data": {
      "text/html": [
       "<div>\n",
       "<style scoped>\n",
       "    .dataframe tbody tr th:only-of-type {\n",
       "        vertical-align: middle;\n",
       "    }\n",
       "\n",
       "    .dataframe tbody tr th {\n",
       "        vertical-align: top;\n",
       "    }\n",
       "\n",
       "    .dataframe thead th {\n",
       "        text-align: right;\n",
       "    }\n",
       "</style>\n",
       "<table border=\"1\" class=\"dataframe\">\n",
       "  <thead>\n",
       "    <tr style=\"text-align: right;\">\n",
       "      <th></th>\n",
       "      <th>0</th>\n",
       "      <th>1</th>\n",
       "    </tr>\n",
       "  </thead>\n",
       "  <tbody>\n",
       "    <tr>\n",
       "      <th>WR169</th>\n",
       "      <td>0.409581</td>\n",
       "      <td>1.199138e-21</td>\n",
       "    </tr>\n",
       "    <tr>\n",
       "      <th>v,200,1.1</th>\n",
       "      <td>0.299923</td>\n",
       "      <td>7.490706e-12</td>\n",
       "    </tr>\n",
       "    <tr>\n",
       "      <th>期現貨價差(現貨-期貨)</th>\n",
       "      <td>0.168211</td>\n",
       "      <td>1.575516e-04</td>\n",
       "    </tr>\n",
       "  </tbody>\n",
       "</table>\n",
       "</div>"
      ],
      "text/plain": [
       "                     0             1\n",
       "WR169         0.409581  1.199138e-21\n",
       "v,200,1.1     0.299923  7.490706e-12\n",
       "期現貨價差(現貨-期貨)  0.168211  1.575516e-04"
      ]
     },
     "execution_count": 52,
     "metadata": {},
     "output_type": "execute_result"
    },
    {
     "data": {
      "text/html": [
       "<div>\n",
       "<style scoped>\n",
       "    .dataframe tbody tr th:only-of-type {\n",
       "        vertical-align: middle;\n",
       "    }\n",
       "\n",
       "    .dataframe tbody tr th {\n",
       "        vertical-align: top;\n",
       "    }\n",
       "\n",
       "    .dataframe thead th {\n",
       "        text-align: right;\n",
       "    }\n",
       "</style>\n",
       "<table border=\"1\" class=\"dataframe\">\n",
       "  <thead>\n",
       "    <tr style=\"text-align: right;\">\n",
       "      <th></th>\n",
       "      <th>0</th>\n",
       "      <th>1</th>\n",
       "    </tr>\n",
       "  </thead>\n",
       "  <tbody>\n",
       "    <tr>\n",
       "      <th>MTM135</th>\n",
       "      <td>-0.593334</td>\n",
       "      <td>7.125199e-49</td>\n",
       "    </tr>\n",
       "    <tr>\n",
       "      <th>RSI135</th>\n",
       "      <td>-0.571623</td>\n",
       "      <td>1.022396e-44</td>\n",
       "    </tr>\n",
       "    <tr>\n",
       "      <th>MA_200</th>\n",
       "      <td>-0.520515</td>\n",
       "      <td>4.602559e-36</td>\n",
       "    </tr>\n",
       "  </tbody>\n",
       "</table>\n",
       "</div>"
      ],
      "text/plain": [
       "               0             1\n",
       "MTM135 -0.593334  7.125199e-49\n",
       "RSI135 -0.571623  1.022396e-44\n",
       "MA_200 -0.520515  4.602559e-36"
      ]
     },
     "execution_count": 52,
     "metadata": {},
     "output_type": "execute_result"
    }
   ],
   "source": [
    "# 樣本內相關係數表\n",
    "pearson = stat_per_af(sign_list, method, start, end)\n",
    "# 樣本內相關係數表\n",
    "test_pearson = stat_per_af(sign_list, method, test_start, test_end)\n",
    "\n",
    "# 相關分析篩選(前3名，由大到小)\n",
    "max_sort_list = pearson_sort(3,pearson.sort_values(by = [0], ascending = False), name_list)\n",
    "# 相關分析篩選(前3名，由小到大)\n",
    "min_sort_list = pearson_sort(3,pearson.sort_values(by = [0], ascending = True), name_list)\n",
    "\n",
    "# 篩選後的指標名稱(正相關)\n",
    "max_sort_list\n",
    "# 篩選後的指標名稱(負相關)\n",
    "min_sort_list\n",
    "\n",
    "# 透過名稱，取得相關係數(正相關)\n",
    "max_per_lis = pearson.loc[max_sort_list,:]\n",
    "max_per_lis\n",
    "\n",
    "# 透過名稱，取得相關係數(負相關)\n",
    "min_per_lis = pearson.loc[min_sort_list,:]\n",
    "min_per_lis\n"
   ]
  },
  {
   "cell_type": "markdown",
   "metadata": {},
   "source": [
    "\n",
    "    \n",
    "<span class=\"burk\">輸出至EXCEL，方便以後查證</span>\n",
    "    \n",
    "<span class=\"burk\">PS:此代碼並未執行，為markdown的代碼塊(註記用)</span>\n",
    "\n",
    "\n",
    "```py\n",
    "df_to_excel(\n",
    "    # 合併樣本內外關係數表(正相關)\n",
    "    pd.concat(\n",
    "        [\n",
    "            # 樣本內關係數表\n",
    "            pearson.loc[max_sort_list,:],\n",
    "            # 樣本外關係數表\n",
    "            test_pearson.loc[max_sort_list,:]\n",
    "        ],\n",
    "        axis=1\n",
    "    ),\n",
    "    file_name='pearson'+'正'\n",
    ")\n",
    "\n",
    "df_to_excel(\n",
    "    # 合併樣本內外關係數表(正相關)\n",
    "    pd.concat(\n",
    "        [\n",
    "            # 樣本內關係數表\n",
    "            pearson.loc[min_sort_list,:],\n",
    "            # 樣本外關係數表\n",
    "            test_pearson.loc[min_sort_list,:]\n",
    "        ],\n",
    "        axis=1\n",
    "    ),\n",
    "    file_name='pearson'+'負'\n",
    ")\n",
    "```"
   ]
  },
  {
   "cell_type": "markdown",
   "metadata": {},
   "source": [
    "## 3.4正負相關各項輸出(做多,做空,多空)\n",
    "\n",
    "<span class=\"burk\">以下為正負相關各項輸出(做多,做空,多空)，結果眾多，太佔篇幅，故不執行</span>"
   ]
  },
  {
   "cell_type": "code",
   "execution_count": null,
   "metadata": {
    "collapsed": true
   },
   "outputs": [],
   "source": [
    "\n",
    "\n",
    "plt.figure()\n",
    "signal.df_price.iloc[start:end,3].plot()\n",
    "plt.savefig(str(start)+'stock'+'inside')\n",
    "\n",
    "plt.figure()\n",
    "signal.df_price.iloc[test_start:test_end,3].plot()\n",
    "plt.savefig(str(start)+'stock'+'TEST')\n",
    "\n",
    "df_to_excel(max_per_lis, file_name=str(start)+'相關係數_大到小')\n",
    "df_to_excel(min_per_lis, file_name=str(start)+'相關係數_小到大')\n",
    "\n",
    "plot_af(str(start)+'stock'+'pearson',method,start,end)\n",
    "plot_af(str(test_start)+'stock'+'pearson',method,test_start,test_end)\n",
    "\n",
    "for k in ['正相關','負相關']:\n",
    "    if k =='正相關':\n",
    "        per = 1\n",
    "        sort_list = max_sort_list\n",
    "        per_lis = max_per_lis\n",
    "    elif k =='負相關':\n",
    "        per = -1\n",
    "        sort_list = min_sort_list\n",
    "        per_lis = min_per_lis\n",
    "    for i in range(3):\n",
    "        plot_af_signal(k+str(i), sign_list, sort_list[i], method, start, end)\n",
    "        plot_af_signal(k+str(i)+'TEST', sign_list, sort_list[i], method, test_start, test_end)\n",
    "        for j in ['做多','做空','多空']:\n",
    "            if j == '做多':\n",
    "                dec = 1\n",
    "            elif j == '做空':\n",
    "                dec = -1\n",
    "            elif j == '多空':\n",
    "                dec = 0\n",
    "            \n",
    "            file_name = str(start) + k + str(i) + sort_list[i] + j\n",
    "            # 訓練期\n",
    "            (condit, rng) = condit_per(sign_list.iloc[start:end], sort_list[i], limt = 1, per=per, dec=dec)\n",
    "            xx = per_lis.loc[sort_list[i]].copy()\n",
    "            xx[2] = rng\n",
    "            df_to_excel(xx, file_name=file_name+'_cond')\n",
    "            backtest(\n",
    "                condit,\n",
    "                df=signal.df_price.iloc[start:end],\n",
    "                K=1, \n",
    "                file_name=file_name+'inside',\n",
    "                daylimt=39,\n",
    "                plot=False\n",
    "            )\n",
    "            \n",
    "            # 測試期 \n",
    "            condit = condit_per_test(sign_list.iloc[test_start:test_end], sort_list[i], rng, per=per, dec=dec)\n",
    "            backtest(\n",
    "                condit, \n",
    "                df=signal.df_price.iloc[test_start:test_end], \n",
    "                K=1, file_name=file_name+'TEST', daylimt=39, plot=False\n",
    "            )"
   ]
  },
  {
   "cell_type": "markdown",
   "metadata": {},
   "source": [
    "# 4BPN"
   ]
  },
  {
   "cell_type": "markdown",
   "metadata": {},
   "source": [
    "## 4.1正負相關 6 個指標"
   ]
  },
  {
   "cell_type": "code",
   "execution_count": 53,
   "metadata": {
    "ExecuteTime": {
     "end_time": "2019-03-01T09:54:11.532876Z",
     "start_time": "2019-03-01T09:54:10.866212Z"
    }
   },
   "outputs": [
    {
     "data": {
      "text/plain": [
       "['WR169', 'v,200,1.1', '期現貨價差(現貨-期貨)']"
      ]
     },
     "execution_count": 53,
     "metadata": {},
     "output_type": "execute_result"
    },
    {
     "data": {
      "text/plain": [
       "['MTM135', 'RSI135', 'MA_200']"
      ]
     },
     "execution_count": 53,
     "metadata": {},
     "output_type": "execute_result"
    },
    {
     "data": {
      "text/plain": [
       "時間\n",
       "2017-12-20   -12.0\n",
       "2017-12-21   -10.0\n",
       "2017-12-22   -48.0\n",
       "2017-12-25   -40.0\n",
       "2017-12-26    56.5\n",
       "dtype: float64"
      ]
     },
     "execution_count": 53,
     "metadata": {},
     "output_type": "execute_result"
    },
    {
     "data": {
      "text/html": [
       "<div>\n",
       "<style scoped>\n",
       "    .dataframe tbody tr th:only-of-type {\n",
       "        vertical-align: middle;\n",
       "    }\n",
       "\n",
       "    .dataframe tbody tr th {\n",
       "        vertical-align: top;\n",
       "    }\n",
       "\n",
       "    .dataframe thead th {\n",
       "        text-align: right;\n",
       "    }\n",
       "</style>\n",
       "<table border=\"1\" class=\"dataframe\">\n",
       "  <thead>\n",
       "    <tr style=\"text-align: right;\">\n",
       "      <th></th>\n",
       "      <th>K5</th>\n",
       "      <th>D5</th>\n",
       "      <th>RSV5</th>\n",
       "      <th>K6</th>\n",
       "      <th>D6</th>\n",
       "      <th>RSV6</th>\n",
       "      <th>K7</th>\n",
       "      <th>D7</th>\n",
       "      <th>RSV7</th>\n",
       "      <th>K8</th>\n",
       "      <th>...</th>\n",
       "      <th>自營商未平倉賣口</th>\n",
       "      <th>自營商未平倉淨口</th>\n",
       "      <th>外資及陸資未平倉買口</th>\n",
       "      <th>外資及陸資未平倉賣口</th>\n",
       "      <th>外資及陸資未平倉淨口</th>\n",
       "      <th>三大法人未平倉買口</th>\n",
       "      <th>三大法人未平倉賣口</th>\n",
       "      <th>三大法人未平倉淨口</th>\n",
       "      <th>未平倉</th>\n",
       "      <th>未平倉變化</th>\n",
       "    </tr>\n",
       "    <tr>\n",
       "      <th>時間</th>\n",
       "      <th></th>\n",
       "      <th></th>\n",
       "      <th></th>\n",
       "      <th></th>\n",
       "      <th></th>\n",
       "      <th></th>\n",
       "      <th></th>\n",
       "      <th></th>\n",
       "      <th></th>\n",
       "      <th></th>\n",
       "      <th></th>\n",
       "      <th></th>\n",
       "      <th></th>\n",
       "      <th></th>\n",
       "      <th></th>\n",
       "      <th></th>\n",
       "      <th></th>\n",
       "      <th></th>\n",
       "      <th></th>\n",
       "      <th></th>\n",
       "      <th></th>\n",
       "    </tr>\n",
       "  </thead>\n",
       "  <tbody>\n",
       "    <tr>\n",
       "      <th>2017-12-20</th>\n",
       "      <td>45.657865</td>\n",
       "      <td>47.325079</td>\n",
       "      <td>47.204969</td>\n",
       "      <td>48.518669</td>\n",
       "      <td>48.028133</td>\n",
       "      <td>47.204969</td>\n",
       "      <td>52.287339</td>\n",
       "      <td>48.928118</td>\n",
       "      <td>56.632653</td>\n",
       "      <td>54.261268</td>\n",
       "      <td>...</td>\n",
       "      <td>8651</td>\n",
       "      <td>-4196</td>\n",
       "      <td>65699</td>\n",
       "      <td>20117</td>\n",
       "      <td>45582</td>\n",
       "      <td>71882</td>\n",
       "      <td>63947</td>\n",
       "      <td>7935</td>\n",
       "      <td>30811</td>\n",
       "      <td>-12436</td>\n",
       "    </tr>\n",
       "    <tr>\n",
       "      <th>2017-12-21</th>\n",
       "      <td>51.342532</td>\n",
       "      <td>48.664230</td>\n",
       "      <td>62.711864</td>\n",
       "      <td>47.666690</td>\n",
       "      <td>47.907652</td>\n",
       "      <td>45.962733</td>\n",
       "      <td>50.179137</td>\n",
       "      <td>49.345125</td>\n",
       "      <td>45.962733</td>\n",
       "      <td>54.711594</td>\n",
       "      <td>...</td>\n",
       "      <td>8474</td>\n",
       "      <td>-4320</td>\n",
       "      <td>65705</td>\n",
       "      <td>22131</td>\n",
       "      <td>43574</td>\n",
       "      <td>71583</td>\n",
       "      <td>66084</td>\n",
       "      <td>5499</td>\n",
       "      <td>87835</td>\n",
       "      <td>57024</td>\n",
       "    </tr>\n",
       "    <tr>\n",
       "      <th>2017-12-22</th>\n",
       "      <td>65.478355</td>\n",
       "      <td>54.268938</td>\n",
       "      <td>93.750000</td>\n",
       "      <td>63.416211</td>\n",
       "      <td>53.077172</td>\n",
       "      <td>94.915254</td>\n",
       "      <td>56.641164</td>\n",
       "      <td>51.777138</td>\n",
       "      <td>69.565217</td>\n",
       "      <td>59.662802</td>\n",
       "      <td>...</td>\n",
       "      <td>9138</td>\n",
       "      <td>-4608</td>\n",
       "      <td>66338</td>\n",
       "      <td>21169</td>\n",
       "      <td>45169</td>\n",
       "      <td>72647</td>\n",
       "      <td>65195</td>\n",
       "      <td>7452</td>\n",
       "      <td>87459</td>\n",
       "      <td>-376</td>\n",
       "    </tr>\n",
       "    <tr>\n",
       "      <th>2017-12-25</th>\n",
       "      <td>66.241768</td>\n",
       "      <td>58.259881</td>\n",
       "      <td>67.768595</td>\n",
       "      <td>64.867006</td>\n",
       "      <td>57.007116</td>\n",
       "      <td>67.768595</td>\n",
       "      <td>62.003200</td>\n",
       "      <td>55.185825</td>\n",
       "      <td>72.727273</td>\n",
       "      <td>61.307292</td>\n",
       "      <td>...</td>\n",
       "      <td>9640</td>\n",
       "      <td>-5217</td>\n",
       "      <td>66574</td>\n",
       "      <td>21024</td>\n",
       "      <td>45550</td>\n",
       "      <td>72705</td>\n",
       "      <td>65607</td>\n",
       "      <td>7098</td>\n",
       "      <td>88085</td>\n",
       "      <td>626</td>\n",
       "    </tr>\n",
       "    <tr>\n",
       "      <th>2017-12-26</th>\n",
       "      <td>46.481854</td>\n",
       "      <td>54.333872</td>\n",
       "      <td>6.962025</td>\n",
       "      <td>45.565346</td>\n",
       "      <td>53.193193</td>\n",
       "      <td>6.962025</td>\n",
       "      <td>43.656142</td>\n",
       "      <td>51.342597</td>\n",
       "      <td>6.962025</td>\n",
       "      <td>43.192203</td>\n",
       "      <td>...</td>\n",
       "      <td>10596</td>\n",
       "      <td>-6115</td>\n",
       "      <td>66042</td>\n",
       "      <td>22619</td>\n",
       "      <td>43423</td>\n",
       "      <td>72051</td>\n",
       "      <td>69507</td>\n",
       "      <td>2544</td>\n",
       "      <td>91544</td>\n",
       "      <td>3459</td>\n",
       "    </tr>\n",
       "  </tbody>\n",
       "</table>\n",
       "<p>5 rows × 15517 columns</p>\n",
       "</div>"
      ],
      "text/plain": [
       "                   K5         D5       RSV5         K6         D6       RSV6  \\\n",
       "時間                                                                             \n",
       "2017-12-20  45.657865  47.325079  47.204969  48.518669  48.028133  47.204969   \n",
       "2017-12-21  51.342532  48.664230  62.711864  47.666690  47.907652  45.962733   \n",
       "2017-12-22  65.478355  54.268938  93.750000  63.416211  53.077172  94.915254   \n",
       "2017-12-25  66.241768  58.259881  67.768595  64.867006  57.007116  67.768595   \n",
       "2017-12-26  46.481854  54.333872   6.962025  45.565346  53.193193   6.962025   \n",
       "\n",
       "                   K7         D7       RSV7         K8  ...    自營商未平倉賣口  \\\n",
       "時間                                                      ...               \n",
       "2017-12-20  52.287339  48.928118  56.632653  54.261268  ...        8651   \n",
       "2017-12-21  50.179137  49.345125  45.962733  54.711594  ...        8474   \n",
       "2017-12-22  56.641164  51.777138  69.565217  59.662802  ...        9138   \n",
       "2017-12-25  62.003200  55.185825  72.727273  61.307292  ...        9640   \n",
       "2017-12-26  43.656142  51.342597   6.962025  43.192203  ...       10596   \n",
       "\n",
       "            自營商未平倉淨口  外資及陸資未平倉買口  外資及陸資未平倉賣口  外資及陸資未平倉淨口  三大法人未平倉買口  \\\n",
       "時間                                                                    \n",
       "2017-12-20     -4196       65699       20117       45582      71882   \n",
       "2017-12-21     -4320       65705       22131       43574      71583   \n",
       "2017-12-22     -4608       66338       21169       45169      72647   \n",
       "2017-12-25     -5217       66574       21024       45550      72705   \n",
       "2017-12-26     -6115       66042       22619       43423      72051   \n",
       "\n",
       "            三大法人未平倉賣口  三大法人未平倉淨口    未平倉  未平倉變化  \n",
       "時間                                              \n",
       "2017-12-20      63947       7935  30811 -12436  \n",
       "2017-12-21      66084       5499  87835  57024  \n",
       "2017-12-22      65195       7452  87459   -376  \n",
       "2017-12-25      65607       7098  88085    626  \n",
       "2017-12-26      69507       2544  91544   3459  \n",
       "\n",
       "[5 rows x 15517 columns]"
      ]
     },
     "execution_count": 53,
     "metadata": {},
     "output_type": "execute_result"
    }
   ],
   "source": [
    "## 相關資料\n",
    "max_sort_list # 正相關前3高\n",
    "min_sort_list # 負相關前3高\n",
    "# 正負相關 6 個指標\n",
    "max_min_list = max_sort_list+min_sort_list\n",
    "# 進場評分指標\n",
    "method.tail()\n",
    "# 指標表\n",
    "sign_list.tail()\n"
   ]
  },
  {
   "cell_type": "markdown",
   "metadata": {},
   "source": [
    "## 4.2資料正規化\n",
    "\n",
    "類神經網路對於輸入輸出數值是敏感的，因此將輸入變數與輸出變數，壓縮至0 ~ 1區間(稱之為正規化)。\n",
    "\n",
    "使用套件函數將輸入變數與輸出變數正規化至0 ~ 1區間，其中要加np.atleast_2d的原因是套件不接受1維資料(500,)，而np.atleast_2d可使資料最少為2維(1,500)，.T轉置將資料變為(500,1)。\n"
   ]
  },
  {
   "cell_type": "code",
   "execution_count": 54,
   "metadata": {
    "ExecuteTime": {
     "end_time": "2019-03-01T09:54:21.692951Z",
     "start_time": "2019-03-01T09:54:20.796680Z"
    }
   },
   "outputs": [],
   "source": [
    "## 資料正規化套件\n",
    "from sklearn.preprocessing import MinMaxScaler\n",
    "\n",
    "X_scaler = MinMaxScaler() # feature_range=(0,1) 指定壓縮後的區間，默認(0,1)\n",
    "y_scaler = MinMaxScaler() # feature_range=(0,1) 指定壓縮後的區間，默認(0,1)\n",
    "# 帶入樣本內資料並轉換(輸入變數:正負相關 6 個指標)\n",
    "X_train = X_scaler.fit_transform( \n",
    "    sign_list.loc[:,max_min_list].iloc[start:end]\n",
    ")\n",
    "# 帶入樣本內資料並轉換(輸出變數:隔日進場評分指標)\n",
    "y_train = y_scaler.fit_transform(\n",
    "    np.atleast_2d(method.shift(-1).iloc[start:end]).T\n",
    ")\n",
    "# 轉換樣本外資料(輸入變數:正負相關 6 個指標)\n",
    "X_test = X_scaler.transform(\n",
    "    sign_list.loc[:,max_min_list].iloc[test_start:test_end]\n",
    ")\n",
    "# 轉換樣本外資料(輸出變數:隔日進場評分指標)\n",
    "y_test = y_scaler.transform(\n",
    "    np.atleast_2d(method.shift(-1).iloc[test_start:test_end]).T\n",
    ")\n"
   ]
  },
  {
   "cell_type": "markdown",
   "metadata": {},
   "source": [
    "## 4.3類神經參數選擇"
   ]
  },
  {
   "cell_type": "code",
   "execution_count": 55,
   "metadata": {
    "ExecuteTime": {
     "end_time": "2019-03-01T09:54:23.445637Z",
     "start_time": "2019-03-01T09:54:22.784957Z"
    }
   },
   "outputs": [
    {
     "data": {
      "text/html": [
       "<!--為了使表格置右-->\n",
       "<style>\n",
       "    table {margin-left: 0 !important;}\n",
       "    td {align=\"center\"}\n",
       "</style>"
      ],
      "text/plain": [
       "<IPython.core.display.HTML object>"
      ]
     },
     "metadata": {},
     "output_type": "display_data"
    }
   ],
   "source": [
    "%%html\n",
    "<!--為了使表格置右-->\n",
    "<style>\n",
    "    table {margin-left: 0 !important;}\n",
    "    td {align=\"center\"}\n",
    "</style>"
   ]
  },
  {
   "cell_type": "markdown",
   "metadata": {},
   "source": [
    "\n",
    "**類神經參數使用**\n",
    "\n",
    "使用參數 | 內容\n",
    "-|-\n",
    "activation | 激活函數{ ‘logistic’, ‘tanh’, ‘relu’}，<br>‘logistic’為S型函數(Sigmoid Function)，<br>‘tanh’為雙曲正切函數(Tanh Function)，<br>‘relu’為線性整流函數(ReLU)。\n",
    "solver | ‘sgd’：隨機梯度下降，隨機抽取一組訓練範例，進行倒傳遞學習。\n",
    "hidden_layer_sizes | 加倍法：2*7(正負相關6個指標+輸出變數)，<br>總合法：7(正負相關6個指標+輸出變數)，<br>平均法：4(7/2，四捨五入至4)\n",
    "random_state | 隨機數種子，確保每次的隨機數一致\n",
    "learning_rate_init | 學習速率0.1~0.9\n",
    "momentum | 慣性因子0.1~0.9\n"
   ]
  },
  {
   "cell_type": "markdown",
   "metadata": {},
   "source": [
    "**<span class=\"burk\">以下為類神經不同參數的相關係數表的輸出，結果眾多，太佔篇幅，故不執行</span>**"
   ]
  },
  {
   "cell_type": "code",
   "execution_count": null,
   "metadata": {
    "ExecuteTime": {
     "end_time": "2019-03-01T09:56:02.130057Z",
     "start_time": "2019-03-01T09:55:57.861479Z"
    }
   },
   "outputs": [],
   "source": [
    "\n",
    "from sklearn.neural_network import MLPRegressor\n",
    "\n",
    "s_p ={'logistic':np.zeros((9,9)), 'tanh':np.zeros((9,9)), 'relu':np.zeros((9,9))}\n",
    "for k in ['tanh', 'relu', 'logistic']:\n",
    "    for i in range(1,10):\n",
    "        for j in range(1,10):\n",
    "            Reg = MLPRegressor(activation=k, solver = 'sgd', hidden_layer_sizes=(4),\n",
    "                               max_iter=200, random_state=0, #batch_size=1,\n",
    "                               learning_rate_init=i/10, momentum=j/10)\n",
    "\n",
    "            Reg.fit(X_train,y_train.ravel())\n",
    "            y_predict = Reg.predict(X_train)\n",
    "            s_p[k][i-1,j-1],_=stats.pearsonr(y_predict,y_train.ravel())\n",
    "            \n",
    "# 'tanh', 'relu', 'logistic'\n",
    "# df_to_excel(pd.DataFrame(s_p['relu']).round(3),file_name='平均法relu')\n",
    "# pd.DataFrame(s_p['relu']).round(3)\n",
    "\n",
    "# df_to_excel(pd.DataFrame(s_p['tanh']).round(3),file_name='平均法tanh')\n",
    "# pd.DataFrame(s_p['tanh']).round(3)\n",
    "\n",
    "# df_to_excel(pd.DataFrame(s_p['logistic']).round(3),file_name='平均法logistic')\n",
    "# pd.DataFrame(s_p['logistic']).round(3)</div><i class=\"fa fa-lightbulb-o \"></i>"
   ]
  },
  {
   "cell_type": "markdown",
   "metadata": {},
   "source": [
    "## 4.4類神經\n",
    "\n",
    "經過類神經參數選擇後，以以下的結果能產生最高的相關係數的類神經模型"
   ]
  },
  {
   "cell_type": "code",
   "execution_count": 42,
   "metadata": {
    "ExecuteTime": {
     "end_time": "2019-03-01T09:02:52.461481Z",
     "start_time": "2019-03-01T09:02:50.167043Z"
    }
   },
   "outputs": [
    {
     "data": {
      "text/plain": [
       "MLPRegressor(activation='relu', alpha=0.0001, batch_size='auto', beta_1=0.9,\n",
       "       beta_2=0.999, early_stopping=False, epsilon=1e-08,\n",
       "       hidden_layer_sizes=14, learning_rate='constant',\n",
       "       learning_rate_init=0.4, max_iter=200, momentum=0.9,\n",
       "       nesterovs_momentum=True, power_t=0.5, random_state=0, shuffle=True,\n",
       "       solver='sgd', tol=0.0001, validation_fraction=0.1, verbose=False,\n",
       "       warm_start=False)"
      ]
     },
     "execution_count": 42,
     "metadata": {},
     "output_type": "execute_result"
    },
    {
     "data": {
      "text/plain": [
       "0.6544994675785946"
      ]
     },
     "execution_count": 42,
     "metadata": {},
     "output_type": "execute_result"
    },
    {
     "data": {
      "text/plain": [
       "0.19727656338010935"
      ]
     },
     "execution_count": 42,
     "metadata": {},
     "output_type": "execute_result"
    }
   ],
   "source": [
    "\n",
    "## 類神經套件\n",
    "from sklearn.neural_network import MLPRegressor\n",
    "# 類神經網路參數\n",
    "Reg = MLPRegressor(\n",
    "    activation='relu', \n",
    "    solver = 'sgd', \n",
    "    hidden_layer_sizes=(7*2),\n",
    "    random_state=0, \n",
    "    learning_rate_init=0.4, \n",
    "    momentum=0.9\n",
    ")\n",
    "# 類神經訓練\n",
    "Reg.fit(X_train,y_train.ravel())\n",
    "# 類神經預測\n",
    "y_predict = Reg.predict(X_train)\n",
    "# 樣本內相關係數\n",
    "stats.pearsonr(y_predict,y_train.ravel())[0]\n",
    "# 樣本外相關係數\n",
    "stats.pearsonr(Reg.predict(X_test),y_test.ravel())[0]\n"
   ]
  },
  {
   "cell_type": "markdown",
   "metadata": {
    "ExecuteTime": {
     "end_time": "2019-03-02T16:28:30.010854Z",
     "start_time": "2019-03-02T16:28:29.994887Z"
    }
   },
   "source": [
    "**經過正則化的進場評分指標與類神經模型(樣本內)**"
   ]
  },
  {
   "cell_type": "code",
   "execution_count": 35,
   "metadata": {
    "ExecuteTime": {
     "end_time": "2019-02-28T15:55:25.114773Z",
     "start_time": "2019-02-28T15:55:24.336550Z"
    }
   },
   "outputs": [
    {
     "data": {
      "text/plain": [
       "<matplotlib.axes._subplots.AxesSubplot at 0x1f2003fe898>"
      ]
     },
     "execution_count": 35,
     "metadata": {},
     "output_type": "execute_result"
    },
    {
     "data": {
      "image/png": "[encoded data removed]",
      "text/plain": [
       "<Figure size 576x396 with 1 Axes>"
      ]
     },
     "metadata": {},
     "output_type": "display_data"
    }
   ],
   "source": [
    "y_predict = Reg.predict(X_train)\n",
    "pd.DataFrame([y_train.ravel(),y_predict],index=['y_true','y_pre']).T.plot()"
   ]
  },
  {
   "cell_type": "markdown",
   "metadata": {
    "ExecuteTime": {
     "end_time": "2019-03-02T16:29:10.286430Z",
     "start_time": "2019-03-02T16:29:10.282440Z"
    }
   },
   "source": [
    "**經過正則化的進場評分指標與類神經模型(樣本外)**"
   ]
  },
  {
   "cell_type": "code",
   "execution_count": 36,
   "metadata": {
    "ExecuteTime": {
     "end_time": "2019-02-28T15:55:27.785477Z",
     "start_time": "2019-02-28T15:55:27.030131Z"
    }
   },
   "outputs": [
    {
     "data": {
      "text/plain": [
       "<matplotlib.axes._subplots.AxesSubplot at 0x1f2016ecc88>"
      ]
     },
     "execution_count": 36,
     "metadata": {},
     "output_type": "execute_result"
    },
    {
     "data": {
      "image/png": "[encoded data removed]",
      "text/plain": [
       "<Figure size 576x396 with 1 Axes>"
      ]
     },
     "metadata": {},
     "output_type": "display_data"
    }
   ],
   "source": [
    "\n",
    "pd.DataFrame([y_test.ravel(),Reg.predict(X_test)],index=['y_true','y_pre']).T.plot()"
   ]
  },
  {
   "cell_type": "markdown",
   "metadata": {},
   "source": [
    "## 4.5類神經交易"
   ]
  },
  {
   "cell_type": "code",
   "execution_count": 39,
   "metadata": {
    "ExecuteTime": {
     "end_time": "2019-02-28T15:56:38.788120Z",
     "start_time": "2019-02-28T15:56:38.096696Z"
    }
   },
   "outputs": [
    {
     "name": "stdout",
     "output_type": "stream",
     "text": [
      "訓練期------------------------------\n"
     ]
    },
    {
     "data": {
      "text/html": [
       "<div>\n",
       "<style scoped>\n",
       "    .dataframe tbody tr th:only-of-type {\n",
       "        vertical-align: middle;\n",
       "    }\n",
       "\n",
       "    .dataframe tbody tr th {\n",
       "        vertical-align: top;\n",
       "    }\n",
       "\n",
       "    .dataframe thead th {\n",
       "        text-align: right;\n",
       "    }\n",
       "</style>\n",
       "<table border=\"1\" class=\"dataframe\">\n",
       "  <thead>\n",
       "    <tr style=\"text-align: right;\">\n",
       "      <th></th>\n",
       "      <th>0</th>\n",
       "    </tr>\n",
       "  </thead>\n",
       "  <tbody>\n",
       "    <tr>\n",
       "      <th>淨損益</th>\n",
       "      <td>3823.000</td>\n",
       "    </tr>\n",
       "    <tr>\n",
       "      <th>單位風險報酬</th>\n",
       "      <td>1.021</td>\n",
       "    </tr>\n",
       "    <tr>\n",
       "      <th>獲利因子</th>\n",
       "      <td>9.048</td>\n",
       "    </tr>\n",
       "    <tr>\n",
       "      <th>交易次數</th>\n",
       "      <td>13.000</td>\n",
       "    </tr>\n",
       "    <tr>\n",
       "      <th>勝率</th>\n",
       "      <td>0.846</td>\n",
       "    </tr>\n",
       "    <tr>\n",
       "      <th>最大回損</th>\n",
       "      <td>475.000</td>\n",
       "    </tr>\n",
       "  </tbody>\n",
       "</table>\n",
       "</div>"
      ],
      "text/plain": [
       "               0\n",
       "淨損益     3823.000\n",
       "單位風險報酬     1.021\n",
       "獲利因子       9.048\n",
       "交易次數      13.000\n",
       "勝率         0.846\n",
       "最大回損     475.000"
      ]
     },
     "execution_count": 39,
     "metadata": {},
     "output_type": "execute_result"
    },
    {
     "name": "stdout",
     "output_type": "stream",
     "text": [
      "測試期------------------------------\n"
     ]
    },
    {
     "data": {
      "text/html": [
       "<div>\n",
       "<style scoped>\n",
       "    .dataframe tbody tr th:only-of-type {\n",
       "        vertical-align: middle;\n",
       "    }\n",
       "\n",
       "    .dataframe tbody tr th {\n",
       "        vertical-align: top;\n",
       "    }\n",
       "\n",
       "    .dataframe thead th {\n",
       "        text-align: right;\n",
       "    }\n",
       "</style>\n",
       "<table border=\"1\" class=\"dataframe\">\n",
       "  <thead>\n",
       "    <tr style=\"text-align: right;\">\n",
       "      <th></th>\n",
       "      <th>0</th>\n",
       "    </tr>\n",
       "  </thead>\n",
       "  <tbody>\n",
       "    <tr>\n",
       "      <th>淨損益</th>\n",
       "      <td>-315.000</td>\n",
       "    </tr>\n",
       "    <tr>\n",
       "      <th>單位風險報酬</th>\n",
       "      <td>-0.094</td>\n",
       "    </tr>\n",
       "    <tr>\n",
       "      <th>獲利因子</th>\n",
       "      <td>0.787</td>\n",
       "    </tr>\n",
       "    <tr>\n",
       "      <th>交易次數</th>\n",
       "      <td>7.000</td>\n",
       "    </tr>\n",
       "    <tr>\n",
       "      <th>勝率</th>\n",
       "      <td>0.571</td>\n",
       "    </tr>\n",
       "    <tr>\n",
       "      <th>最大回損</th>\n",
       "      <td>1426.000</td>\n",
       "    </tr>\n",
       "  </tbody>\n",
       "</table>\n",
       "</div>"
      ],
      "text/plain": [
       "               0\n",
       "淨損益     -315.000\n",
       "單位風險報酬    -0.094\n",
       "獲利因子       0.787\n",
       "交易次數       7.000\n",
       "勝率         0.571\n",
       "最大回損    1426.000"
      ]
     },
     "execution_count": 39,
     "metadata": {},
     "output_type": "execute_result"
    }
   ],
   "source": [
    "y_pred = pd.DataFrame({'pred':Reg.predict(X_train)})\n",
    "y_pred_test = pd.DataFrame({'pred':Reg.predict(X_test)})\n",
    "\n",
    "# 訓練期\n",
    "print('訓練期'+'-'*30)\n",
    "(condit, rng) = condit_per(y_pred, 'pred', limt = 1, per=1, dec=0)\n",
    "backtest(condit, df=signal.df_price.iloc[start:end], K=1,  file_name=None, daylimt=39, plot=False)\n",
    "\n",
    "# 測試期\n",
    "print('測試期'+'-'*30)\n",
    "condit = condit_per_test(y_pred_test,'pred', rng, per=1, dec=0)       \n",
    "backtest(condit, df=signal.df_price.iloc[test_start:test_end], K=1,  file_name=None, daylimt=39, plot=False)"
   ]
  },
  {
   "cell_type": "markdown",
   "metadata": {},
   "source": [
    "## 4.6類神經所有結果(做多,做空,多空)\n",
    "\n",
    "**<span class=\"burk\">以下為類神經類神經所有結果(做多,做空,多空)的輸出，結果眾多，太佔篇幅，故不執行</span>**"
   ]
  },
  {
   "cell_type": "code",
   "execution_count": null,
   "metadata": {
    "collapsed": true
   },
   "outputs": [],
   "source": [
    "y_pred = pd.DataFrame({'pred':Reg.predict(X_train)})\n",
    "y_pred_test = pd.DataFrame({'pred':Reg.predict(X_test)})\n",
    "for j in ['做多','做空','多空']:\n",
    "    if j == '做多':\n",
    "        dec = 1\n",
    "    elif j == '做空':\n",
    "        dec = -1\n",
    "    elif j == '多空':\n",
    "        dec = 0\n",
    "    (condit, rng) = condit_per(y_pred, 'pred', limt = 1, per=1, dec=dec)\n",
    "    \n",
    "    backtest(condit, df=signal.df_price.iloc[start:end], K=1, file_name=j+'pred', daylimt=39, plot=False)\n",
    "    \n",
    "    condit = condit_per_test(y_pred_test,'pred', rng, per=1, dec=dec)       \n",
    "    backtest(condit, df=signal.df_price.iloc[test_start:test_end], K=1, file_name=j+'pred'+'TEST', daylimt=39, plot=False)"
   ]
  },
  {
   "cell_type": "code",
   "execution_count": null,
   "metadata": {
    "collapsed": true
   },
   "outputs": [],
   "source": []
  }
 ],
 "metadata": {
  "hide_input": false,
  "kernelspec": {
   "display_name": "Python [default]",
   "language": "python",
   "name": "python3"
  },
  "language_info": {
   "codemirror_mode": {
    "name": "ipython",
    "version": 3
   },
   "file_extension": ".py",
   "mimetype": "text/x-python",
   "name": "python",
   "nbconvert_exporter": "python",
   "pygments_lexer": "ipython3",
   "version": "3.6.5"
  },
  "toc": {
   "base_numbering": 1,
   "nav_menu": {
    "height": "142px",
    "width": "240px"
   },
   "number_sections": true,
   "sideBar": true,
   "skip_h1_title": false,
   "title_cell": "Table of Contents",
   "title_sidebar": "Contents",
   "toc_cell": false,
   "toc_position": {
    "height": "595px",
    "left": "109px",
    "right": "1388px",
    "top": "127px",
    "width": "164px"
   },
   "toc_section_display": true,
   "toc_window_display": true
  },
  "varInspector": {
   "cols": {
    "lenName": 16,
    "lenType": 16,
    "lenVar": 40
   },
   "kernels_config": {
    "python": {
     "delete_cmd_postfix": "",
     "delete_cmd_prefix": "del ",
     "library": "var_list.py",
     "varRefreshCmd": "print(var_dic_list())"
    },
    "r": {
     "delete_cmd_postfix": ") ",
     "delete_cmd_prefix": "rm(",
     "library": "var_list.r",
     "varRefreshCmd": "cat(var_dic_list()) "
    }
   },
   "oldHeight": 350,
   "position": {
    "height": "40px",
    "left": "939px",
    "right": "20px",
    "top": "37px",
    "width": "359px"
   },
   "types_to_exclude": [
    "module",
    "function",
    "builtin_function_or_method",
    "instance",
    "_Feature"
   ],
   "varInspector_section_display": "none",
   "window_display": false
  }
 },
 "nbformat": 4,
 "nbformat_minor": 2
}
